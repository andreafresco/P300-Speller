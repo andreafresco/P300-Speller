{
  "nbformat": 4,
  "nbformat_minor": 0,
  "metadata": {
    "colab": {
      "name": "AY1920_DT_P300_SPELLER_02.ipynb",
      "provenance": [],
      "collapsed_sections": [],
      "machine_shape": "hm",
      "include_colab_link": true
    },
    "kernelspec": {
      "name": "python3",
      "display_name": "Python 3"
    },
    "accelerator": "GPU"
  },
  "cells": [
    {
      "cell_type": "markdown",
      "metadata": {
        "id": "view-in-github",
        "colab_type": "text"
      },
      "source": [
        "<a href=\"https://colab.research.google.com/github/CaprioloSaggio/P300_Speller/blob/master/AY1920_DT_P300_SPELLER_02.ipynb\" target=\"_parent\"><img src=\"https://colab.research.google.com/assets/colab-badge.svg\" alt=\"Open In Colab\"/></a>"
      ]
    },
    {
      "cell_type": "markdown",
      "metadata": {
        "id": "43M-a3-NtoVy",
        "colab_type": "text"
      },
      "source": [
        "#**P300 Speller - GROUP 2**"
      ]
    },
    {
      "cell_type": "markdown",
      "metadata": {
        "id": "WaPLOWhfEJd0",
        "colab_type": "text"
      },
      "source": [
        "Fresco Andrea\n",
        "Garza Roberto\n",
        "Giove Morena\n",
        "Losa Letizia\n",
        "Molinari Giulia"
      ]
    },
    {
      "cell_type": "markdown",
      "metadata": {
        "id": "U-xehPIHAOLE",
        "colab_type": "text"
      },
      "source": [
        "# **Preprocessing**"
      ]
    },
    {
      "cell_type": "markdown",
      "metadata": {
        "id": "rinkVUZfZi1S",
        "colab_type": "text"
      },
      "source": [
        "## Import required modules ##\n",
        "We import some modules in our script in order to provide us useful functions for the dataset analysis."
      ]
    },
    {
      "cell_type": "code",
      "metadata": {
        "id": "2SisGoqEAgue",
        "colab_type": "code",
        "colab": {}
      },
      "source": [
        "import matplotlib.pyplot as plt   # Required to plot data\n",
        "import numpy as np                # Management of arrays\n",
        "import os                         # System utils\n",
        "from scipy.io import loadmat, savemat     # Required to load and save .mat files\n",
        "from scipy import signal          # Required for signal processing\n",
        "\n",
        "%matplotlib inline"
      ],
      "execution_count": null,
      "outputs": []
    },
    {
      "cell_type": "markdown",
      "metadata": {
        "id": "jshq9w7TB0k0",
        "colab_type": "text"
      },
      "source": [
        "## Load data from Google Drive folder ##\n",
        "We import the Google Drive module and mount our folder. "
      ]
    },
    {
      "cell_type": "code",
      "metadata": {
        "id": "ZTfeTc6CCb2t",
        "colab_type": "code",
        "colab": {}
      },
      "source": [
        "from google.colab import drive"
      ],
      "execution_count": null,
      "outputs": []
    },
    {
      "cell_type": "code",
      "metadata": {
        "id": "Cr20x5uRCv0M",
        "colab_type": "code",
        "colab": {
          "base_uri": "https://localhost:8080/",
          "height": 36
        },
        "outputId": "854e35f5-bc5d-4470-e54b-9f3dbfbcdcfc"
      },
      "source": [
        "drive.mount('/content/drive', force_remount=True)"
      ],
      "execution_count": null,
      "outputs": [
        {
          "output_type": "stream",
          "text": [
            "Mounted at /content/drive\n"
          ],
          "name": "stdout"
        }
      ]
    },
    {
      "cell_type": "markdown",
      "metadata": {
        "id": "UWpPjSUUDQe9",
        "colab_type": "text"
      },
      "source": [
        "We specify the paths to the location where our data are stored."
      ]
    },
    {
      "cell_type": "code",
      "metadata": {
        "id": "w6sYjFxrDkHr",
        "colab_type": "code",
        "colab": {}
      },
      "source": [
        "# Setting data paths\n",
        "CHANNEL_LOCATIONS_FILE_PATH = 'drive/My Drive/Data/channels.csv'\n",
        "SUBJECT_A_TRAIN_FILE_PATH = 'drive/My Drive/Data/Subject_A_Train.mat'\n",
        "SUBJECT_B_TRAIN_FILE_PATH = 'drive/My Drive/Data/Subject_B_Train.mat'\n",
        "SUBJECT_A_TEST_FILE_PATH = 'drive/My Drive/Data/Subject_A_Test.mat'\n",
        "SUBJECT_B_TEST_FILE_PATH = 'drive/My Drive/Data/Subject_B_Test.mat'"
      ],
      "execution_count": null,
      "outputs": []
    },
    {
      "cell_type": "markdown",
      "metadata": {
        "id": "Uf1ofkhzD0Nj",
        "colab_type": "text"
      },
      "source": [
        "## Read Channel Locations File ##\n",
        "We read the *channels.csv* file - that contains a list of all the channels that were used for the recording - and store the channels description strings in a list. \n"
      ]
    },
    {
      "cell_type": "code",
      "metadata": {
        "id": "q-0u9itQGBpQ",
        "colab_type": "code",
        "colab": {}
      },
      "source": [
        "if not os.path.exists(CHANNEL_LOCATIONS_FILE_PATH):\n",
        "    print(\"Missing file: {}\", CHANNEL_LOCATIONS_FILE_PATH)\n",
        "else:\n",
        "  CHANNELS = [] \n",
        "  # Read file content\n",
        "  with open(CHANNEL_LOCATIONS_FILE_PATH, \"r\") as f:\n",
        "    file_content = f.read()\n",
        "    # Loop over all rows (except first one)\n",
        "    for row in file_content.split(\"\\n\")[1:]: \n",
        "      # Skip missing rows\n",
        "      if row == '':\n",
        "        continue\n",
        "      CHANNELS.append(row)"
      ],
      "execution_count": null,
      "outputs": []
    },
    {
      "cell_type": "markdown",
      "metadata": {
        "id": "6glA2rtlHnnE",
        "colab_type": "text"
      },
      "source": [
        "We set the repetitions number and the frequency at which the EEG signal is sampled according to the dataset description (BCI competition III)"
      ]
    },
    {
      "cell_type": "code",
      "metadata": {
        "id": "Tz_Fa51HeVCG",
        "colab_type": "code",
        "colab": {}
      },
      "source": [
        "# From the dataset description we know there are 15 repetitions\n",
        "REPETITIONS = 15\n",
        "# Data are sampled at 240 Hz\n",
        "SAMPLING_FREQUENCY = 240  "
      ],
      "execution_count": null,
      "outputs": []
    },
    {
      "cell_type": "markdown",
      "metadata": {
        "id": "lT_a7c8MHroM",
        "colab_type": "text"
      },
      "source": [
        "## Read Data File ##\n",
        "We define the **load_mydata** function to load the *.mat* files that store all the data we need to analyze. The variables of interest are:\n",
        "- *Signal* containing the EEG signals from all the channels\n",
        "- *Flashing* containing the flashing sequence (1 means column/row intensified, 0 means no intensification)\n",
        "- *TargetChar* containing the word (letter) that the subject spelled during the recording\n",
        "- *StimulusCode* containing the intensified column/row index (1...6 for columns, 7...12 for rows, 0 for no intensification)\n",
        "- *StimulusType* containing the P300-noP300 sequence (1 means that the intensified column/row contains the target char, 0 otherwise)\n",
        "\n",
        "We also extract some explicative variables: recording duration, number of trials and number of samples for each trial\n"
      ]
    },
    {
      "cell_type": "code",
      "metadata": {
        "id": "tZJ0Fnk6pClM",
        "colab_type": "code",
        "colab": {}
      },
      "source": [
        "def load_mydata(file_path):\n",
        "  \n",
        "  if not os.path.exists(file_path):\n",
        "      print(\"Missing file: {}\", file_path)\n",
        "  else:\n",
        "    # Load the required data\n",
        "    data = loadmat(file_path)\n",
        "    # Get the variables of interest from the loaded dictionary\n",
        "    signals = data['Signal']\n",
        "    flashing = data['Flashing']\n",
        "    word = data['TargetChar']\n",
        "    stimulusCode = data['StimulusCode'] \n",
        "    # Since StimulusType is available in training datasets only\n",
        "    key = data.keys() \n",
        "    if \"StimulusType\" in key: \n",
        "      stimulusType = data['StimulusType']\n",
        "    else:\n",
        "      stimulusType = \"\"  \n",
        "    # We've just loaded 'Signal', 'TargetChar', 'Flashing', 'StimulusCode', 'StimulusType'\n",
        "\n",
        "    # Compute the duration of the recording in minutes\n",
        "    RECORDING_DURATION = (len(signals))*(len(signals[0]))/(SAMPLING_FREQUENCY*60)\n",
        "    # Compute number of trials\n",
        "    TRIALS = len(word[0])\n",
        "    # Compute number of samples per trial\n",
        "    SAMPLES_PER_TRIAL = len(signals[0])\n",
        "\n",
        "    print(\"**********************************\")\n",
        "    print(\"        DATASET INFORMATION       \")\n",
        "    print(\"**********************************\")\n",
        "    print(\"Sampling Frequency: %d Hz [%.2f ms]\" % (SAMPLING_FREQUENCY, \n",
        "        (1000/SAMPLING_FREQUENCY)))\n",
        "    print(\"Session duration:   %.2f\" % RECORDING_DURATION)\n",
        "    print(\"Number of letters:  %d\" % TRIALS)\n",
        "    print(\"Spelled word:       %s\" % word)\n",
        "    print(\"File:               %s\" % file_path.split(\"/\")[-1])\n",
        "    print()\n",
        "    return signals, flashing, word, stimulusType, stimulusCode"
      ],
      "execution_count": null,
      "outputs": []
    },
    {
      "cell_type": "code",
      "metadata": {
        "id": "RNFqtrgSdZ7S",
        "colab_type": "code",
        "colab": {
          "base_uri": "https://localhost:8080/",
          "height": 690
        },
        "outputId": "a8641274-fa0a-417b-a84f-3541163a7e91"
      },
      "source": [
        "# We load the data\n",
        "signal_A_TRAIN, flashing_A_TRAIN, word_A_TRAIN, stimulusType_A_TRAIN, _ = load_mydata(SUBJECT_A_TRAIN_FILE_PATH)\n",
        "signal_B_TRAIN, flashing_B_TRAIN, word_B_TRAIN, stimulusType_B_TRAIN, _ = load_mydata(SUBJECT_B_TRAIN_FILE_PATH)\n",
        "signal_A_TEST, flashing_A_TEST, word_A_TEST, _, stimulusCode_A = load_mydata(SUBJECT_A_TEST_FILE_PATH)\n",
        "signal_B_TEST, flashing_B_TEST, word_B_TEST, _, stimulusCode_B = load_mydata(SUBJECT_B_TEST_FILE_PATH)"
      ],
      "execution_count": null,
      "outputs": [
        {
          "output_type": "stream",
          "text": [
            "**********************************\n",
            "        DATASET INFORMATION       \n",
            "**********************************\n",
            "Sampling Frequency: 240 Hz [4.17 ms]\n",
            "Session duration:   46.01\n",
            "Number of letters:  85\n",
            "Spelled word:       ['EAEVQTDOJG8RBRGONCEDHCTUIDBPUHMEM6OUXOCFOUKWA4VJEFRZROLHYNQDW_EKTLBWXEPOUIKZERYOOTHQI']\n",
            "File:               Subject_A_Train.mat\n",
            "\n",
            "**********************************\n",
            "        DATASET INFORMATION       \n",
            "**********************************\n",
            "Sampling Frequency: 240 Hz [4.17 ms]\n",
            "Session duration:   46.01\n",
            "Number of letters:  85\n",
            "Spelled word:       ['VGREAAH8TVRHBYN_UGCOLO4EUERDOOHCIFOMDNU6LQCPKEIREKOYRQIDJXPBKOJDWZEUEWWFOEBHXTQTTZUMO']\n",
            "File:               Subject_B_Train.mat\n",
            "\n",
            "**********************************\n",
            "        DATASET INFORMATION       \n",
            "**********************************\n",
            "Sampling Frequency: 240 Hz [4.17 ms]\n",
            "Session duration:   54.12\n",
            "Number of letters:  100\n",
            "Spelled word:       ['WQXPLZCOMRKO97YFZDEZ1DPI9NNVGRQDJCUVRMEUOOOJD2UFYPOO6J7LDGYEGOA5VHNEHBTXOO1TDOILUEE5BFAEEXAW_K4R3MRU']\n",
            "File:               Subject_A_Test.mat\n",
            "\n",
            "**********************************\n",
            "        DATASET INFORMATION       \n",
            "**********************************\n",
            "Sampling Frequency: 240 Hz [4.17 ms]\n",
            "Session duration:   54.12\n",
            "Number of letters:  100\n",
            "Spelled word:       ['MERMIROOMUHJPXJOHUVLEORZP3GLOO7AUFDKEFTWEOOALZOP9ROCGZET1Y19EWX65QUYU7NAK_4YCJDVDNGQXODBEV2B5EFDIDNR']\n",
            "File:               Subject_B_Test.mat\n",
            "\n"
          ],
          "name": "stdout"
        }
      ]
    },
    {
      "cell_type": "markdown",
      "metadata": {
        "id": "mRBeksTaQr65",
        "colab_type": "text"
      },
      "source": [
        "## Filter design ##\n",
        "We define Butterworth filter parameters according to *Carabez et al. 2017* and plot its frequency response "
      ]
    },
    {
      "cell_type": "code",
      "metadata": {
        "colab_type": "code",
        "id": "w4YYaOxSI8jT",
        "colab": {
          "base_uri": "https://localhost:8080/",
          "height": 320
        },
        "outputId": "84cfaf69-afa5-4568-a137-3fa46fcaf6a4"
      },
      "source": [
        "# 2nd order bandpass Butterworth with cutting frequencies of 0.1 Hz and 8 Hz\n",
        "b,a = signal.butter(2, [0.1/(SAMPLING_FREQUENCY/2), 8/(SAMPLING_FREQUENCY/2)], 'bandpass')\n",
        "# Frequency response\n",
        "f,h = signal.freqz(b,a, fs = SAMPLING_FREQUENCY)\n",
        "\n",
        "# Semilog plot\n",
        "plt.semilogx(f, 20 * np.log10(abs(h))) \n",
        "plt.axvline(x=0.1) # f_cut1 [Hz]\n",
        "plt.axvline(x=8) # f_cut2 [Hz]\n",
        "plt.xlabel('Frequency [Hz]')\n",
        "plt.ylabel('Magnitude [dB]')\n",
        "plt.grid()"
      ],
      "execution_count": null,
      "outputs": [
        {
          "output_type": "stream",
          "text": [
            "/usr/local/lib/python3.6/dist-packages/ipykernel_launcher.py:6: RuntimeWarning: divide by zero encountered in log10\n",
            "  \n"
          ],
          "name": "stderr"
        },
        {
          "output_type": "display_data",
          "data": {
            "image/png": "[encoded data removed]",
            "text/plain": [
              "<Figure size 432x288 with 1 Axes>"
            ]
          },
          "metadata": {
            "tags": []
          }
        }
      ]
    },
    {
      "cell_type": "markdown",
      "metadata": {
        "id": "mM5VWuN-tPWl",
        "colab_type": "text"
      },
      "source": [
        "# **Subtask 1**"
      ]
    },
    {
      "cell_type": "markdown",
      "metadata": {
        "id": "Y_GwkxbnpYeI",
        "colab_type": "text"
      },
      "source": [
        "We define **filter_mysignal** function, that first extracts the epochs from signal and then applies the filter. According to *Carabez et al. 2017* we also use the Savitzky-Golay filter. Finally we distinguish the P300 from the non-P300 epochs."
      ]
    },
    {
      "cell_type": "code",
      "metadata": {
        "colab_type": "code",
        "id": "3fch-GUFI8jJ",
        "colab": {}
      },
      "source": [
        "def filter_mysignal(sig, flash, stim_type, dataset='train'):\n",
        "  \n",
        "  TRIALS = len(sig[:,1,1]) # Number of the letters\n",
        "  SAMPLES_PER_TRIAL = len(sig[1,:,1])\n",
        "\n",
        "  epochs = []           # Init 3D array to store EEG epochs\n",
        "  epoch_labels = []     # Init array to store epoch labels\n",
        "  epochDuration = int(SAMPLING_FREQUENCY)  # Duration of the epoch is 1000 ms -> 240 samples\n",
        "  y_target = []\n",
        "  epochs_P300 = []\n",
        "  epochs_noP300 = []\n",
        "\n",
        "  # Savitzky-Golay\n",
        "  window_length = 5 \n",
        "  polyorder = 2 \n",
        "  \n",
        "  # For loop over all the trials\n",
        "  for trial in range(TRIALS):\n",
        "    for sample in range(SAMPLES_PER_TRIAL):\n",
        "    # Check if flashing changed from 0 or 1 or if it's the first sample (always 1)\n",
        "      if ( sample == 0 or (flash[trial, sample-1] == 0 and flash[trial, sample] == 1)):\n",
        "        \n",
        "      # Extract an epoch\n",
        "        lower_sample = sample\n",
        "        upper_sample = sample + epochDuration\n",
        "        \n",
        "      # Apply the filters\n",
        "        epoch = sig[trial, int(lower_sample):int(upper_sample), :]\n",
        "        epoch = signal.savgol_filter(epoch, window_length, polyorder, axis=0)\n",
        "        epoch = signal.filtfilt(b, a, epoch, axis = 0)\n",
        "        epoch = signal.decimate(epoch, 10, axis=0) # downsampling 10 times lower\n",
        "        \n",
        "      # Normalize each epoch\n",
        "        epoch = (epoch - np.mean(epoch, axis=0, keepdims=True)) / np.std(epoch, axis=0, keepdims=True)\n",
        "        epochs.append(epoch)\n",
        "\n",
        "      # Distinguish P300 and non-P300 epochs\n",
        "        if dataset == 'train':\n",
        "          if stim_type[trial, sample] == 1:\n",
        "            epochs_P300.append(epoch)\n",
        "            y_target.append(1)\n",
        "          elif stim_type[trial, sample] == 0:\n",
        "            epochs_noP300.append(epoch)\n",
        "            y_target.append(0)\n",
        "          else: print('Error in finding a class for the {}-th letter'.format(trial))\n",
        "\n",
        "# Return filtered epochs from raw signal, target type (P300: 1, non-P300: 0), P300 epochs and non-P300 epochs    \n",
        "  return np.array(epochs), np.array(y_target).reshape(len(y_target),1), np.array(epochs_P300), np.array(epochs_noP300) "
      ],
      "execution_count": null,
      "outputs": []
    },
    {
      "cell_type": "markdown",
      "metadata": {
        "id": "eJ4-as8hwD6N",
        "colab_type": "text"
      },
      "source": [
        "Now we filter the signals"
      ]
    },
    {
      "cell_type": "code",
      "metadata": {
        "id": "PKV2caAbJGDC",
        "colab_type": "code",
        "colab": {
          "base_uri": "https://localhost:8080/",
          "height": 92
        },
        "outputId": "d0030255-ec2e-4e56-c267-f3fdcd6d9c23"
      },
      "source": [
        "# Filter the signals\n",
        "print('Filtering signal 1...')\n",
        "epochs_A_TRAIN, target_A_TRAIN, epochs_A_TRAIN_P300, epochs_A_TRAIN_noP300 = filter_mysignal(signal_A_TRAIN, flashing_A_TRAIN, stimulusType_A_TRAIN)\n",
        "print('Filtering signal 2...')\n",
        "epochs_B_TRAIN, target_B_TRAIN, epochs_B_TRAIN_P300, epochs_B_TRAIN_noP300 = filter_mysignal(signal_B_TRAIN, flashing_B_TRAIN, stimulusType_B_TRAIN)\n",
        "print('Filtering signal 3...')\n",
        "epochs_A_TEST, _, epochs_A_TEST_P300, epochs_A_TEST_noP300 =  filter_mysignal(signal_A_TEST, flashing_A_TEST, _, dataset='test')\n",
        "print('Filtering signal 4...')\n",
        "epochs_B_TEST, _, epochs_B_TEST_P300, epochs_B_TEST_noP300 = filter_mysignal(signal_B_TEST, flashing_B_TEST, _, dataset='test')"
      ],
      "execution_count": null,
      "outputs": [
        {
          "output_type": "stream",
          "text": [
            "Filtering signal 1...\n",
            "Filtering signal 2...\n",
            "Filtering signal 3...\n",
            "Filtering signal 4...\n"
          ],
          "name": "stdout"
        }
      ]
    },
    {
      "cell_type": "markdown",
      "metadata": {
        "id": "Sei9DtQOwHtC",
        "colab_type": "text"
      },
      "source": [
        "We define **matrixchannel** function, reshaping electrodes according to *Carabez et al. 2017*, since their study was on an auditory dataset, we adjust the position of T9 and T10 for visual stimuli "
      ]
    },
    {
      "cell_type": "code",
      "metadata": {
        "id": "jTZwlokABhR6",
        "colab_type": "code",
        "colab": {}
      },
      "source": [
        "def matrixchannel(epoch):\n",
        "\n",
        "  m = np.zeros((len(epoch[:,0,0]),len(epoch[0,:,0]),10,11))\n",
        "  \n",
        "  m[:,:,0,4:7]=epoch[:,:,21:24] #from Fp1 to Fp2\n",
        "  m[:,:,1,3:8]=epoch[:,:,24:29] #from Af7 to Af8\n",
        "  m[:,:,2,1:10]=epoch[:,:,29:38] #from F7 to F8\n",
        "  m[:,:,3,1]=epoch[:,:,38] #Ft7\n",
        "  m[:,:,3,2:9]=epoch[:,:,0:7] #from FC5 to FC6 \n",
        "  m[:,:,3,9]=epoch[:,:,39] #Ft8\n",
        "  m[:,:,4,1]=epoch[:,:,40] #T7\n",
        "  m[:,:,4,2:9]=epoch[:,:,7:14] #from C5 to C6\n",
        "  m[:,:,4,9]=epoch[:,:,41] #T8\n",
        "  m[:,:,5,1]=epoch[:,:,44] #Tp7\n",
        "  m[:,:,5,2:9]=epoch[:,:,14:21] #from Cp5 to Cp6\n",
        "  m[:,:,5,9]=epoch[:,:,45] #Tp8\n",
        "  m[:,:,4,0]=epoch[:,:,42] #P9 (auditory) T9 (visual)\n",
        "  m[:,:,6,1:10]=epoch[:,:,46:55] #from P7 to P8 \n",
        "  m[:,:,4,10]=epoch[:,:,43] #P10 (auditory) T10 (visual)\n",
        "  m[:,:,7,3:8]=epoch[:,:,55:60] #from PO7 to PO8\n",
        "  m[:,:,8,4:7]=epoch[:,:,60:63] #from O1 to O2 \n",
        "  m[:,:,9,5]=epoch[:,:,63] #Iz \n",
        "\n",
        "  return m # m is a 10-by-11 matrix containing the epochs corresponding to each electrode"
      ],
      "execution_count": null,
      "outputs": []
    },
    {
      "cell_type": "markdown",
      "metadata": {
        "id": "M-0xPA-7xcSz",
        "colab_type": "text"
      },
      "source": [
        "We apply the function to all the pre-processed signals"
      ]
    },
    {
      "cell_type": "code",
      "metadata": {
        "id": "1h-ddS2ZDE1h",
        "colab_type": "code",
        "colab": {
          "base_uri": "https://localhost:8080/",
          "height": 36
        },
        "outputId": "989e3c80-017b-43fc-ce43-568b51f7083a"
      },
      "source": [
        "epochs_A_TRAIN_reshaped = matrixchannel(epochs_A_TRAIN)\n",
        "epochs_A_TEST_reshaped = matrixchannel(epochs_A_TEST)\n",
        "epochs_B_TRAIN_reshaped = matrixchannel(epochs_B_TRAIN)\n",
        "epochs_B_TEST_reshaped = matrixchannel(epochs_B_TEST)\n",
        "\n",
        "epochs_A_TRAIN_P300 = matrixchannel(epochs_A_TRAIN_P300)\n",
        "epochs_A_TRAIN_noP300 = matrixchannel(epochs_A_TRAIN_noP300)\n",
        "\n",
        "print(epochs_A_TRAIN_reshaped.shape) # print the dimensions obtained"
      ],
      "execution_count": null,
      "outputs": [
        {
          "output_type": "stream",
          "text": [
            "(15300, 24, 10, 11)\n"
          ],
          "name": "stdout"
        }
      ]
    },
    {
      "cell_type": "markdown",
      "metadata": {
        "id": "cwpHWNp6y01-",
        "colab_type": "text"
      },
      "source": [
        "In the next 2 cells we plot respectively temporal development of one P300 epoch and of a non-P300 epoch. The P300 wave should appear at 300ms, in correspondence of the 8th sample\n",
        "\n"
      ]
    },
    {
      "cell_type": "code",
      "metadata": {
        "id": "hUgft9aVDFw9",
        "colab_type": "code",
        "colab": {
          "base_uri": "https://localhost:8080/",
          "height": 487
        },
        "outputId": "488c369e-9381-4a5c-b0ef-ae8bb447591c"
      },
      "source": [
        "num=10 # select the 11th epoch as a random demonstrative example\n",
        "maxi=epochs_A_TRAIN_P300[num,:].ravel().max() # For the plotting range\n",
        "mini=epochs_A_TRAIN_P300[num,:].ravel().min() # For the plotting range\n",
        "\n",
        "plt.figure(figsize=(24,25))\n",
        "for i in range(24):\n",
        "  plt.subplot(9,9,i+1)\n",
        "  plt.imshow(epochs_A_TRAIN_P300[num,i],  vmin=mini, vmax=maxi) \n",
        "  plt.title(str(i+1))\n",
        "  plt.colorbar()\n",
        "  plt.xticks([])\n",
        "  plt.yticks([])"
      ],
      "execution_count": null,
      "outputs": [
        {
          "output_type": "display_data",
          "data": {
            "image/png": "[encoded data removed]",
            "text/plain": [
              "<Figure size 1728x1800 with 48 Axes>"
            ]
          },
          "metadata": {
            "tags": []
          }
        }
      ]
    },
    {
      "cell_type": "code",
      "metadata": {
        "id": "bbLiQE4fzOUc",
        "colab_type": "code",
        "colab": {
          "base_uri": "https://localhost:8080/",
          "height": 487
        },
        "outputId": "55ef427d-e89f-4532-e5a8-a273c0f7763f"
      },
      "source": [
        "num=10 # select the 11th epoch as a random demonstrative example\n",
        "maxi=epochs_A_TRAIN_noP300[num,:].ravel().max()\n",
        "mini=epochs_A_TRAIN_noP300[num,:].ravel().min()\n",
        "\n",
        "plt.figure(figsize=(24,25))\n",
        "for i in range(24):\n",
        "  plt.subplot(9,9,i+1)\n",
        "  plt.imshow(epochs_A_TRAIN_noP300[num,i],  vmin=mini, vmax=maxi)\n",
        "  plt.title(str(i+1))\n",
        "  plt.colorbar()\n",
        "  plt.xticks([])\n",
        "  plt.yticks([])"
      ],
      "execution_count": null,
      "outputs": [
        {
          "output_type": "display_data",
          "data": {
            "image/png": "[encoded data removed]",
            "text/plain": [
              "<Figure size 1728x1800 with 48 Axes>"
            ]
          },
          "metadata": {
            "tags": []
          }
        }
      ]
    },
    {
      "cell_type": "markdown",
      "metadata": {
        "id": "xe6CfxAp1ZTk",
        "colab_type": "text"
      },
      "source": [
        "# **Subtask 2**"
      ]
    },
    {
      "cell_type": "markdown",
      "metadata": {
        "id": "HfsePUo16Awb",
        "colab_type": "text"
      },
      "source": [
        "## Data preparation"
      ]
    },
    {
      "cell_type": "markdown",
      "metadata": {
        "id": "WdBrRPrh1oxC",
        "colab_type": "text"
      },
      "source": [
        "We add a dummy dimension for the 3D convolution's sake"
      ]
    },
    {
      "cell_type": "code",
      "metadata": {
        "id": "I5v4ysJVoyjj",
        "colab_type": "code",
        "colab": {
          "base_uri": "https://localhost:8080/",
          "height": 92
        },
        "outputId": "b3200efc-4bb7-4a27-a957-ff0b3dc46910"
      },
      "source": [
        "epochs_A_TRAIN_reshaped = np.expand_dims(epochs_A_TRAIN_reshaped, axis=4)\n",
        "epochs_A_TEST_reshaped = np.expand_dims(epochs_A_TEST_reshaped, axis=4)\n",
        "epochs_B_TRAIN_reshaped = np.expand_dims(epochs_B_TRAIN_reshaped, axis=4)\n",
        "epochs_B_TEST_reshaped = np.expand_dims(epochs_B_TEST_reshaped, axis=4)\n",
        "\n",
        "print(epochs_A_TRAIN_reshaped.shape)\n",
        "print(epochs_A_TEST_reshaped.shape)\n",
        "print(epochs_B_TRAIN_reshaped.shape)\n",
        "print(epochs_B_TEST_reshaped.shape)"
      ],
      "execution_count": null,
      "outputs": [
        {
          "output_type": "stream",
          "text": [
            "(15300, 24, 10, 11, 1)\n",
            "(18000, 24, 10, 11, 1)\n",
            "(15300, 24, 10, 11, 1)\n",
            "(18000, 24, 10, 11, 1)\n"
          ],
          "name": "stdout"
        }
      ]
    },
    {
      "cell_type": "markdown",
      "metadata": {
        "id": "0IjNGzdy2LUg",
        "colab_type": "text"
      },
      "source": [
        "We define **stimCode_reduced** function remove redundancy from stimulusCode array"
      ]
    },
    {
      "cell_type": "code",
      "metadata": {
        "id": "Gtj8UwYU62rP",
        "colab_type": "code",
        "cellView": "both",
        "colab": {}
      },
      "source": [
        "def stimCode_reduced(stimCode):\n",
        "  newStimCode = []\n",
        "  for i in range(len(stimCode[:,0])): # iterate for all the trials (letters) in the subject session\n",
        "    index = np.where(np.diff(stimCode[i]) == 0) # find indeces where stimulus' codes repeat in the same trial (finding one letter) (1,1,1,1,1,0,0,0,0,7,7,7,7,0,0,0,0,12,12,12,12,0,0,0,0,...)\n",
        "    newTemp_stimcode = np.delete(stimCode[i], index) # delete multiple sequence of the same number, keeping only the stimulus's codes interleaved by a zero (1, 0, 7, 0, 12, 0, ...)\n",
        "    index = np.where(newTemp_stimcode == 0) # find indeces where zeros are\n",
        "    newTemp_stimcode = np.delete(newTemp_stimcode, index) # delete zeros in the sequence (1, 7, 12, ...)\n",
        "    newStimCode.append(newTemp_stimcode) # storing the reduced stimulus' code for each trials\n",
        "\n",
        "  return np.array(newStimCode) # returning the session stimulus'code\n"
      ],
      "execution_count": null,
      "outputs": []
    },
    {
      "cell_type": "markdown",
      "metadata": {
        "id": "feEhE_oh5QwD",
        "colab_type": "text"
      },
      "source": [
        "We reduce the dimensions of StimulusCode for each subject applying the function"
      ]
    },
    {
      "cell_type": "code",
      "metadata": {
        "id": "a0yAzQS5_Tiw",
        "colab_type": "code",
        "colab": {}
      },
      "source": [
        "stimCode_A_reduced = stimCode_reduced(stimulusCode_A)\n",
        "stimCode_B_reduced = stimCode_reduced(stimulusCode_B)"
      ],
      "execution_count": null,
      "outputs": []
    },
    {
      "cell_type": "markdown",
      "metadata": {
        "id": "oUCVcogs3kFL",
        "colab_type": "text"
      },
      "source": [
        "Replicate the grid used in the experimental protocol"
      ]
    },
    {
      "cell_type": "code",
      "metadata": {
        "id": "BkmlDPvm3mXr",
        "colab_type": "code",
        "colab": {}
      },
      "source": [
        "MA=[['A','B','C','D','E','F'],\n",
        "    ['G','H','I','J','K','L'],\n",
        "    ['M','N','O','P','Q','R'],\n",
        "    ['S','T','U','V','W','X'],\n",
        "    ['Y','Z','1','2','3','4'],\n",
        "    ['5','6','7','8','9','_']]\n",
        "\n",
        "temp_MA = np.array(MA)"
      ],
      "execution_count": null,
      "outputs": []
    },
    {
      "cell_type": "markdown",
      "metadata": {
        "id": "2yieCDKM316y",
        "colab_type": "text"
      },
      "source": [
        "We define **target_test** function, that creates the surrogate of StimulusType for the test set. "
      ]
    },
    {
      "cell_type": "code",
      "metadata": {
        "id": "_BsDeQpv_FnK",
        "colab_type": "code",
        "colab": {}
      },
      "source": [
        "def target_test(stimCode, wordTEST):\n",
        "  # stimCode is used in its reduced version\n",
        "  target_TEST = []\n",
        " \n",
        "  for k in range(len(wordTEST)): # for every line/letter in the test set \n",
        "    i = np.where(temp_MA == wordTEST[k])[0][0] + 7 \n",
        "    j = np.where(temp_MA == wordTEST[k])[1][0] + 1\n",
        "    for sample in range(180): # every time I find a number of columns in stimulusCode corresponding to the letter spelled by the subject\n",
        "      if (stimCode[k,sample] == i or stimCode[k,sample] == j): # check if the column or the row is the target one\n",
        "        target_TEST.append(1)\n",
        "      else:\n",
        "        target_TEST.append(0)\n",
        "\n",
        "  return np.array(target_TEST)\n"
      ],
      "execution_count": null,
      "outputs": []
    },
    {
      "cell_type": "markdown",
      "metadata": {
        "id": "xi2SNeLI5ftd",
        "colab_type": "text"
      },
      "source": [
        "We apply the function and check the effectiveness"
      ]
    },
    {
      "cell_type": "code",
      "metadata": {
        "id": "AMJSK7lL_OZ3",
        "colab_type": "code",
        "colab": {
          "base_uri": "https://localhost:8080/",
          "height": 73
        },
        "outputId": "e2f9e4c5-d1f4-408b-cbfe-63687b406ebe"
      },
      "source": [
        "target_A_TEST = target_test(stimCode_A_reduced, list(word_A_TEST[0]))\n",
        "target_B_TEST = target_test(stimCode_B_reduced, list(word_B_TEST[0]))\n",
        "\n",
        "print(target_A_TEST.shape)\n",
        "print(target_B_TEST.shape)\n",
        "print(np.unique(target_A_TEST))"
      ],
      "execution_count": null,
      "outputs": [
        {
          "output_type": "stream",
          "text": [
            "(18000,)\n",
            "(18000,)\n",
            "[0 1]\n"
          ],
          "name": "stdout"
        }
      ]
    },
    {
      "cell_type": "markdown",
      "metadata": {
        "id": "AnWWGAa758zq",
        "colab_type": "text"
      },
      "source": [
        "## Network design"
      ]
    },
    {
      "cell_type": "markdown",
      "metadata": {
        "id": "gWtjEzbGl4xP",
        "colab_type": "text"
      },
      "source": [
        "The following 3 cells use a Randomized Grid Search, thus performing hyperparameter tuning. They are commented out because they represent the most time-consuming part of the code. We perform them 3 times zooming each time in the neighbourhood of the best local results. The output of such operations are used in the model design   "
      ]
    },
    {
      "cell_type": "code",
      "metadata": {
        "id": "VNMKM9j6rOy5",
        "colab_type": "code",
        "colab": {
          "base_uri": "https://localhost:8080/",
          "height": 56
        },
        "outputId": "83f39835-c7c0-406b-8b99-2e3b5a50f244"
      },
      "source": [
        "'''\n",
        "def build_model_conv(n_hidden=1, n_neurons=72, conv_patch=(1,3,3), pool_patch=(1,2,2), pool_stride=(1,1,1), conv_layer_extra = False, input_shape=[24, 10, 11, 1],\n",
        "                     activ = 'relu', drop_rate=0.5):\n",
        "  model = keras.models.Sequential()\n",
        "  \n",
        "  model.add(keras.layers.Conv3D(filters=32, kernel_size = conv_patch, activation = activ, padding=\"SAME\", input_shape=input_shape), kernel_regularizer= keras.regularizers.l2(l=0.02)) # adding the 3D convolutional layer\n",
        "  \n",
        "  if  conv_layer_extra: # adding optional 3D convolutional layer\n",
        "    model.add(keras.layers.Conv3D(filters=64, kernel_size = conv_patch, strides=(1,2,2), activation = activ, padding=\"SAME\"), kernel_regularizer= keras.regularizers.l2(l=0.02))\n",
        "  \n",
        "  model.add(keras.layers.MaxPool3D(pool_size=pool_patch, strides=pool_stride)) # adding MaxPool 3D layer\n",
        "\n",
        "  model.add(keras.layers.Flatten()) # flattening the layers\n",
        "\n",
        "  for layer in range(n_hidden): # adding as many as layers specified\n",
        "    model.add(keras.layers.Dense(units=n_neurons, activation = activ), kernel_regularizer= keras.regularizers.l2(l=0.02))\n",
        "    model.add(keras.layers.Dropout(drop_rate))\n",
        "  \n",
        "  model.add(keras.layers.Dense(units=1, activation=\"sigmoid\"), kernel_regularizer= keras.regularizers.l2(l=0.02)) # adding last layer, convolution or non convolution\n",
        "  \n",
        "  optimizer = keras.optimizers.RMSprop(lr=0.001, rho=0.9) # RMS prop as optimizer\n",
        "  model.compile(loss=\"binary_crossentropy\", optimizer=optimizer,  metrics=['accuracy'])\n",
        "  return model\n",
        "'''"
      ],
      "execution_count": null,
      "outputs": [
        {
          "output_type": "execute_result",
          "data": {
            "text/plain": [
              "'\\ndef build_model_conv(n_hidden=1, n_neurons=72, conv_patch=(1,3,3), pool_patch=(1,2,2), pool_stride=(1,1,1), conv_layer_extra = False, input_shape=[24, 10, 11, 1],\\n                     activ = \\'relu\\', drop_rate=0.5):\\n  model = keras.models.Sequential()\\n  \\n  model.add(keras.layers.Conv3D(filters=32, kernel_size = conv_patch, activation = activ, padding=\"SAME\", input_shape=input_shape), kernel_regularizer= keras.regularizers.l2(l=0.02)) # adding the 3D convolutional layer\\n  \\n  if  conv_layer_extra: # adding optional 3D convolutional layer\\n    model.add(keras.layers.Conv3D(filters=64, kernel_size = conv_patch, strides=(1,2,2), activation = activ, padding=\"SAME\"), kernel_regularizer= keras.regularizers.l2(l=0.02))\\n  \\n  model.add(keras.layers.MaxPool3D(pool_size=pool_patch, strides=pool_stride)) # adding MaxPool 3D layer\\n\\n  model.add(keras.layers.Flatten()) # flattening the layers\\n\\n  for layer in range(n_hidden): # adding as many as layers specified\\n    model.add(keras.layers.Dense(units=n_neurons, activation = activ), kernel_regularizer= keras.regularizers.l2(l=0.02))\\n    model.add(keras.layers.Dropout(drop_rate))\\n  \\n  model.add(keras.layers.Dense(units=1, activation=\"sigmoid\"), kernel_regularizer= keras.regularizers.l2(l=0.02)) # adding last layer, convolution or non convolution\\n  \\n  optimizer = keras.optimizers.RMSprop(lr=0.001, rho=0.9) # RMS prop as optimizer\\n  model.compile(loss=\"binary_crossentropy\", optimizer=optimizer,  metrics=[\\'accuracy\\'])\\n  return model\\n'"
            ]
          },
          "metadata": {
            "tags": []
          },
          "execution_count": 229
        }
      ]
    },
    {
      "cell_type": "code",
      "metadata": {
        "id": "LadG_cs7rPCx",
        "colab_type": "code",
        "colab": {
          "base_uri": "https://localhost:8080/",
          "height": 36
        },
        "outputId": "dabc42b4-e685-4741-fede-8a4cb581c3d1"
      },
      "source": [
        "'''\n",
        "keras_class_conv = keras.wrappers.scikit_learn.KerasClassifier(build_model_conv)\n",
        "'''"
      ],
      "execution_count": null,
      "outputs": [
        {
          "output_type": "execute_result",
          "data": {
            "text/plain": [
              "'\\nkeras_class_conv = keras.wrappers.scikit_learn.KerasClassifier(build_model_conv)\\n'"
            ]
          },
          "metadata": {
            "tags": []
          },
          "execution_count": 230
        }
      ]
    },
    {
      "cell_type": "code",
      "metadata": {
        "id": "78-cT0jsrPNM",
        "colab_type": "code",
        "colab": {
          "base_uri": "https://localhost:8080/",
          "height": 56
        },
        "outputId": "6e0e3544-9b18-4901-9e10-99f380744928"
      },
      "source": [
        "'''\n",
        "from sklearn.model_selection import RandomizedSearchCV\n",
        "param_distribs_conv ={\n",
        "\n",
        "    \"n_hidden\": [1, 2], # (Shan et al., 2018)\n",
        "    \"n_neurons\": np.arange(1,128), # (Shan et al., 2018)\n",
        "    \"conv_layer_extra\": [True, False],\n",
        "    \"activ\": 'elu', 'relu', 'selu', 'tanh',\n",
        "    \"drop_rate\": np.random.uniform(0.2, 0.8, 100), # (Liu et al. 2017)\n",
        "    \"conv_patch\": [(4,3,3), (4,2,2), (4,3,2), (4,2,3), (4,2,4), (4,1,4)], # (Carabez et al., 2017)\n",
        "    \"pool_patch\": [(1,2,2), (1,3,3), (1,1,2), (1,1,3), (1,2,3)], # (Carabez et al., 2017)\n",
        "    \"pool_stride\": [(1,1,1), (1,1,2), (1,1,3), (1,2,2), (1,2,3)] # (Carabez et al., 2017)\n",
        "\n",
        "}\n",
        "\n",
        "rand_search_cv = RandomizedSearchCV(keras_class_conv, param_distribs_conv, cv=3, n_iter=10)\n",
        "rand_search_cv.fit(epochs_A_TRAIN_reshaped, target_A_TRAIN, epochs=5, \n",
        "                   validation_data = (epochs_A_TEST_reshaped,target_A_TEST), callbacks = [keras.callbacks.EarlyStopping(patience=10)],\n",
        "                   verbose=1, batch_size=64)\n",
        "'''"
      ],
      "execution_count": null,
      "outputs": [
        {
          "output_type": "execute_result",
          "data": {
            "text/plain": [
              "'\\nfrom sklearn.model_selection import RandomizedSearchCV\\nparam_distribs_conv ={\\n\\n    \"n_hidden\": [1, 2], # (Shan et al., 2018)\\n    \"n_neurons\": np.arange(1,128), # (Shan et al., 2018)\\n    \"conv_layer_extra\": [True, False],\\n    \"activ\": \\'elu\\', \\'relu\\', \\'selu\\', \\'tanh\\',\\n    \"drop_rate\": np.random.uniform(0.2, 0.8, 100), # (Liu et al. 2017)\\n    \"conv_patch\": [(4,3,3), (4,2,2), (4,3,2), (4,2,3), (4,2,4), (4,1,4)], # (Carabez et al., 2017)\\n    \"pool_patch\": [(1,2,2), (1,3,3), (1,1,2), (1,1,3), (1,2,3)], # (Carabez et al., 2017)\\n    \"pool_stride\": [(1,1,1), (1,1,2), (1,1,3), (1,2,2), (1,2,3)] # (Carabez et al., 2017)\\n\\n}\\n\\nrand_search_cv = RandomizedSearchCV(keras_class_conv, param_distribs_conv, cv=3, n_iter=10)\\nrand_search_cv.fit(epochs_A_TRAIN_reshaped, target_A_TRAIN, epochs=5, \\n                   validation_data = (epochs_A_TEST_reshaped,target_A_TEST), callbacks = [keras.callbacks.EarlyStopping(patience=10)],\\n                   verbose=1, batch_size=64)\\n'"
            ]
          },
          "metadata": {
            "tags": []
          },
          "execution_count": 231
        }
      ]
    },
    {
      "cell_type": "code",
      "metadata": {
        "id": "pRkoV0zGrpbC",
        "colab_type": "code",
        "colab": {
          "base_uri": "https://localhost:8080/",
          "height": 56
        },
        "outputId": "f7f3cc1c-6a54-4b68-fd02-f3310836c451"
      },
      "source": [
        "'''\n",
        "print(\"***********Best model***********\")\n",
        "print(\"Hidden units: {}\".format(rnd_search_cv.best_params_['n_hidden']))\n",
        "print(\"Neurons per unit: {}\".format(rnd_search_cv.best_params_['n_neurons']))\n",
        "print(\"Convolution Patch (kernel size): {}\".format(rand_search_cv.best_params_['conv_patch']))\n",
        "print(\"Pooling patch (pooling size): {}\".format(rand_search_cv.best_params_['pool_patch']))\n",
        "print(\"Pooling strides: {}\".format(rand_search_cv.best_params_['pool_stride']))\n",
        "print(\"Drop-out rate: {}\".format(rand_search_cv.best_params_['drop_rate']))\n",
        "print(\"Extra 3D convolutional layer: {}\".format(rand_search_cv.best_params_['conv_layer_extra']))\n",
        "\n",
        "print()\n",
        "print(\"Best score (accuracy): {}\".format(grid_search_cv.best_score_))\n",
        "'''"
      ],
      "execution_count": null,
      "outputs": [
        {
          "output_type": "execute_result",
          "data": {
            "text/plain": [
              "'\\nprint(\"***********Best model***********\")\\nprint(\"Hidden units: {}\".format(rnd_search_cv.best_params_[\\'n_hidden\\']))\\nprint(\"Neurons per unit: {}\".format(rnd_search_cv.best_params_[\\'n_neurons\\']))\\nprint(\"Convolution Patch (kernel size): {}\".format(rand_search_cv.best_params_[\\'conv_patch\\']))\\nprint(\"Pooling patch (pooling size): {}\".format(rand_search_cv.best_params_[\\'pool_patch\\']))\\nprint(\"Pooling strides: {}\".format(rand_search_cv.best_params_[\\'pool_stride\\']))\\nprint(\"Drop-out rate: {}\".format(rand_search_cv.best_params_[\\'drop_rate\\']))\\nprint(\"Extra 3D convolutional layer: {}\".format(rand_search_cv.best_params_[\\'conv_layer_extra\\']))\\n\\nprint()\\nprint(\"Best score (accuracy): {}\".format(grid_search_cv.best_score_))\\n'"
            ]
          },
          "metadata": {
            "tags": []
          },
          "execution_count": 232
        }
      ]
    },
    {
      "cell_type": "markdown",
      "metadata": {
        "id": "mlr2cIaG6WEA",
        "colab_type": "text"
      },
      "source": [
        "Create the model"
      ]
    },
    {
      "cell_type": "markdown",
      "metadata": {
        "id": "3QiEYsAFmMNC",
        "colab_type": "text"
      },
      "source": [
        "We now use the hyperparameters found as an output of Randomized Grid Search"
      ]
    },
    {
      "cell_type": "code",
      "metadata": {
        "id": "5pY6nnmt6TWN",
        "colab_type": "code",
        "colab": {}
      },
      "source": [
        "# MODEL A\n",
        "from tensorflow import keras\n",
        "\n",
        "modelA = keras.models.Sequential([\n",
        "        keras.layers.Conv3D(filters=32, input_shape=[24, 10, 11, 1], kernel_size = [4,2,2], strides=(2,1,1),activation = 'elu', padding=\"SAME\", \n",
        "                            kernel_regularizer= keras.regularizers.l2(l=0.02)),\n",
        "    \n",
        "        keras.layers.Conv3D(filters=64, kernel_size = [2,2,2], strides=(2,1,1),activation = 'elu', padding=\"SAME\",\n",
        "                            kernel_regularizer= keras.regularizers.l2(l=0.02)),\n",
        "\n",
        "        keras.layers.MaxPool3D(pool_size=(1,2,2)), # Pool stride is the default one (1,1,1)\n",
        "\n",
        "        keras.layers.Flatten(),\n",
        "        keras.layers.Dense(units=124, activation='elu', kernel_regularizer= keras.regularizers.l2(l=0.02)),\n",
        "        keras.layers.Dropout(0.4),\n",
        "        keras.layers.Dense(units=124, activation='elu', kernel_regularizer= keras.regularizers.l2(l=0.02)),\n",
        "        keras.layers.Dropout(0.4),\n",
        "\n",
        "        keras.layers.Dense(units=1, activation='sigmoid')                                 \n",
        "])"
      ],
      "execution_count": null,
      "outputs": []
    },
    {
      "cell_type": "code",
      "metadata": {
        "id": "JowoyN1T6j9A",
        "colab_type": "code",
        "colab": {
          "base_uri": "https://localhost:8080/",
          "height": 141
        },
        "outputId": "29508b08-4ab8-4fc1-a3e4-c45731ffe3a5"
      },
      "source": [
        "keras.utils.plot_model( # Show model architecture\n",
        "    modelA,\n",
        "    to_file='model.png',\n",
        "    show_shapes=True,\n",
        "    show_layer_names=False,\n",
        "    rankdir='LR', # 'TB' creates a vertical plot; 'LR' creates a horizontal plot.\n",
        "    expand_nested=True,\n",
        "    dpi=96\n",
        ")"
      ],
      "execution_count": null,
      "outputs": [
        {
          "output_type": "execute_result",
          "data": {
            "image/png": "[encoded data removed]",
            "text/plain": [
              "<IPython.core.display.Image object>"
            ]
          },
          "metadata": {
            "tags": []
          },
          "execution_count": 234
        }
      ]
    },
    {
      "cell_type": "markdown",
      "metadata": {
        "id": "4VkjQORc8W0u",
        "colab_type": "text"
      },
      "source": [
        "Compile the model"
      ]
    },
    {
      "cell_type": "code",
      "metadata": {
        "id": "glU_Mn0-QNC2",
        "colab_type": "code",
        "colab": {}
      },
      "source": [
        "modelA.compile(loss='binary_crossentropy', \n",
        "               optimizer = keras.optimizers.RMSprop(lr=0.001, rho=0.9), \n",
        "               metrics=['accuracy'])"
      ],
      "execution_count": null,
      "outputs": []
    },
    {
      "cell_type": "code",
      "metadata": {
        "id": "db2lztwBnVkS",
        "colab_type": "code",
        "colab": {}
      },
      "source": [
        "class_weight = {0: 1.,\n",
        "                1: 5.}"
      ],
      "execution_count": null,
      "outputs": []
    },
    {
      "cell_type": "code",
      "metadata": {
        "id": "v2wuvl7wQRPY",
        "colab_type": "code",
        "colab": {
          "base_uri": "https://localhost:8080/",
          "height": 597
        },
        "outputId": "6089a71e-0d2a-4016-ac8b-357ca4b21e9c"
      },
      "source": [
        "historyA = modelA.fit(epochs_A_TRAIN_reshaped, target_A_TRAIN, epochs=15, batch_size=32, class_weight=class_weight,\n",
        "                    validation_data =(epochs_A_TEST_reshaped,target_A_TEST))"
      ],
      "execution_count": null,
      "outputs": [
        {
          "output_type": "stream",
          "text": [
            "Train on 15300 samples, validate on 18000 samples\n",
            "Epoch 1/15\n",
            "15300/15300 [==============================] - 6s 420us/sample - loss: 2.1166 - acc: 0.5735 - val_loss: 0.8836 - val_acc: 0.4541\n",
            "Epoch 2/15\n",
            "15300/15300 [==============================] - 5s 335us/sample - loss: 1.1894 - acc: 0.6001 - val_loss: 0.7102 - val_acc: 0.6398\n",
            "Epoch 3/15\n",
            "15300/15300 [==============================] - 5s 337us/sample - loss: 1.1817 - acc: 0.6192 - val_loss: 0.8592 - val_acc: 0.5767\n",
            "Epoch 4/15\n",
            "15300/15300 [==============================] - 5s 337us/sample - loss: 1.1759 - acc: 0.6168 - val_loss: 0.7540 - val_acc: 0.6019\n",
            "Epoch 5/15\n",
            "15300/15300 [==============================] - 5s 337us/sample - loss: 1.1696 - acc: 0.6218 - val_loss: 0.6768 - val_acc: 0.8334\n",
            "Epoch 6/15\n",
            "15300/15300 [==============================] - 5s 336us/sample - loss: 1.1690 - acc: 0.6365 - val_loss: 0.7290 - val_acc: 0.6383\n",
            "Epoch 7/15\n",
            "15300/15300 [==============================] - 5s 337us/sample - loss: 1.1663 - acc: 0.6238 - val_loss: 0.6464 - val_acc: 0.7496\n",
            "Epoch 8/15\n",
            "15300/15300 [==============================] - 5s 334us/sample - loss: 1.1672 - acc: 0.6313 - val_loss: 0.8557 - val_acc: 0.5212\n",
            "Epoch 9/15\n",
            "15300/15300 [==============================] - 5s 337us/sample - loss: 1.1626 - acc: 0.6331 - val_loss: 0.7129 - val_acc: 0.6717\n",
            "Epoch 10/15\n",
            "15300/15300 [==============================] - 5s 335us/sample - loss: 1.1633 - acc: 0.6395 - val_loss: 0.7208 - val_acc: 0.6758\n",
            "Epoch 11/15\n",
            "15300/15300 [==============================] - 5s 334us/sample - loss: 1.1549 - acc: 0.6381 - val_loss: 0.8367 - val_acc: 0.5887\n",
            "Epoch 12/15\n",
            "15300/15300 [==============================] - 5s 336us/sample - loss: 1.1569 - acc: 0.6465 - val_loss: 0.7379 - val_acc: 0.6512\n",
            "Epoch 13/15\n",
            "15300/15300 [==============================] - 5s 335us/sample - loss: 1.1553 - acc: 0.6461 - val_loss: 0.6438 - val_acc: 0.7543\n",
            "Epoch 14/15\n",
            "15300/15300 [==============================] - 5s 349us/sample - loss: 1.1553 - acc: 0.6461 - val_loss: 0.7504 - val_acc: 0.6553\n",
            "Epoch 15/15\n",
            "15300/15300 [==============================] - 5s 338us/sample - loss: 1.1534 - acc: 0.6441 - val_loss: 0.6173 - val_acc: 0.7756\n"
          ],
          "name": "stdout"
        }
      ]
    },
    {
      "cell_type": "markdown",
      "metadata": {
        "id": "qIhhoSRNDx-H",
        "colab_type": "text"
      },
      "source": [
        "Model B"
      ]
    },
    {
      "cell_type": "code",
      "metadata": {
        "id": "leaX3kmZ7gWf",
        "colab_type": "code",
        "colab": {}
      },
      "source": [
        "# MODEL B\n",
        "from tensorflow import keras\n",
        "\n",
        "modelB = keras.models.Sequential([\n",
        "        keras.layers.Conv3D(filters=32, input_shape=[24, 10, 11, 1], kernel_size = [4,2,2], strides=(2,1,1),activation = 'elu', padding=\"SAME\", \n",
        "                            kernel_regularizer= keras.regularizers.l2(l=0.02)),\n",
        "    \n",
        "        keras.layers.Conv3D(filters=64, kernel_size = [2,2,2], strides=(2,1,1),activation = 'elu', padding=\"SAME\",\n",
        "                            kernel_regularizer= keras.regularizers.l2(l=0.02)),\n",
        "\n",
        "        keras.layers.MaxPool3D(pool_size=(1,2,2)),\n",
        "        #keras.layers.BatchNormalization(),\n",
        "\n",
        "        keras.layers.Flatten(),\n",
        "        #keras.layers.Dense(units=124, activation='elu', kernel_regularizer= keras.regularizers.l2(l=0.02)),\n",
        "        #keras.layers.Dropout(0.4),\n",
        "        keras.layers.Dense(units=124, activation='elu', kernel_regularizer= keras.regularizers.l2(l=0.02)),\n",
        "        keras.layers.Dropout(0.4),\n",
        "\n",
        "        keras.layers.Dense(units=1, activation='sigmoid')                                 \n",
        "])"
      ],
      "execution_count": null,
      "outputs": []
    },
    {
      "cell_type": "code",
      "metadata": {
        "id": "gazl-jRWnpE_",
        "colab_type": "code",
        "colab": {
          "base_uri": "https://localhost:8080/",
          "height": 141
        },
        "outputId": "d75322aa-6a8e-417b-d6ca-debbaebd9c63"
      },
      "source": [
        "keras.utils.plot_model( # Show model architecture\n",
        "    modelB,\n",
        "    to_file='model.png',\n",
        "    show_shapes=True,\n",
        "    show_layer_names=False,\n",
        "    rankdir='LR', # 'TB' creates a vertical plot; 'LR' creates a horizontal plot.\n",
        "    expand_nested=True,\n",
        "    dpi=96\n",
        ")"
      ],
      "execution_count": null,
      "outputs": [
        {
          "output_type": "execute_result",
          "data": {
            "image/png": "[encoded data removed]",
            "text/plain": [
              "<IPython.core.display.Image object>"
            ]
          },
          "metadata": {
            "tags": []
          },
          "execution_count": 239
        }
      ]
    },
    {
      "cell_type": "code",
      "metadata": {
        "id": "1STYdV1_nt9L",
        "colab_type": "code",
        "colab": {}
      },
      "source": [
        "modelB.compile(loss='binary_crossentropy', \n",
        "               optimizer = keras.optimizers.RMSprop(lr=0.001, rho=0.9), \n",
        "               metrics=['accuracy'])"
      ],
      "execution_count": null,
      "outputs": []
    },
    {
      "cell_type": "code",
      "metadata": {
        "id": "OzJ4ocUjpQzp",
        "colab_type": "code",
        "colab": {}
      },
      "source": [
        "class_weight = {0: 1.,\n",
        "                1: 5.}"
      ],
      "execution_count": null,
      "outputs": []
    },
    {
      "cell_type": "code",
      "metadata": {
        "id": "zaVGdaJDoA_7",
        "colab_type": "code",
        "colab": {
          "base_uri": "https://localhost:8080/",
          "height": 597
        },
        "outputId": "4ef07a0b-b979-4fae-ce3c-d077ea93e83c"
      },
      "source": [
        "historyB = modelB.fit(epochs_B_TRAIN_reshaped, target_B_TRAIN, epochs=15, batch_size=32, class_weight=class_weight,\n",
        "                    validation_data =(epochs_B_TEST_reshaped,target_B_TEST))"
      ],
      "execution_count": null,
      "outputs": [
        {
          "output_type": "stream",
          "text": [
            "Train on 15300 samples, validate on 18000 samples\n",
            "Epoch 1/15\n",
            "15300/15300 [==============================] - 6s 411us/sample - loss: 1.6941 - acc: 0.5897 - val_loss: 0.8816 - val_acc: 0.4657\n",
            "Epoch 2/15\n",
            "15300/15300 [==============================] - 5s 324us/sample - loss: 1.1882 - acc: 0.6439 - val_loss: 0.8639 - val_acc: 0.5424\n",
            "Epoch 3/15\n",
            "15300/15300 [==============================] - 5s 326us/sample - loss: 1.1627 - acc: 0.6703 - val_loss: 0.8013 - val_acc: 0.6079\n",
            "Epoch 4/15\n",
            "15300/15300 [==============================] - 5s 324us/sample - loss: 1.1490 - acc: 0.6784 - val_loss: 0.8091 - val_acc: 0.5882\n",
            "Epoch 5/15\n",
            "15300/15300 [==============================] - 5s 323us/sample - loss: 1.1299 - acc: 0.6834 - val_loss: 0.8616 - val_acc: 0.5456\n",
            "Epoch 6/15\n",
            "15300/15300 [==============================] - 5s 323us/sample - loss: 1.1222 - acc: 0.6852 - val_loss: 0.5604 - val_acc: 0.8384\n",
            "Epoch 7/15\n",
            "15300/15300 [==============================] - 5s 325us/sample - loss: 1.1169 - acc: 0.6898 - val_loss: 0.6300 - val_acc: 0.7887\n",
            "Epoch 8/15\n",
            "15300/15300 [==============================] - 5s 326us/sample - loss: 1.1138 - acc: 0.6920 - val_loss: 0.6597 - val_acc: 0.7381\n",
            "Epoch 9/15\n",
            "15300/15300 [==============================] - 5s 325us/sample - loss: 1.1080 - acc: 0.7010 - val_loss: 0.6836 - val_acc: 0.7201\n",
            "Epoch 10/15\n",
            "15300/15300 [==============================] - 5s 318us/sample - loss: 1.1036 - acc: 0.7003 - val_loss: 0.6388 - val_acc: 0.7754\n",
            "Epoch 11/15\n",
            "15300/15300 [==============================] - 5s 323us/sample - loss: 1.0977 - acc: 0.7016 - val_loss: 0.5667 - val_acc: 0.8272\n",
            "Epoch 12/15\n",
            "15300/15300 [==============================] - 5s 321us/sample - loss: 1.0953 - acc: 0.7035 - val_loss: 0.7274 - val_acc: 0.6971\n",
            "Epoch 13/15\n",
            "15300/15300 [==============================] - 5s 322us/sample - loss: 1.0910 - acc: 0.7116 - val_loss: 0.6188 - val_acc: 0.7962\n",
            "Epoch 14/15\n",
            "15300/15300 [==============================] - 5s 321us/sample - loss: 1.0871 - acc: 0.7122 - val_loss: 0.6119 - val_acc: 0.7914\n",
            "Epoch 15/15\n",
            "15300/15300 [==============================] - 5s 322us/sample - loss: 1.0908 - acc: 0.7069 - val_loss: 0.5490 - val_acc: 0.8371\n"
          ],
          "name": "stdout"
        }
      ]
    },
    {
      "cell_type": "code",
      "metadata": {
        "id": "vwbtiE_PokU_",
        "colab_type": "code",
        "colab": {
          "base_uri": "https://localhost:8080/",
          "height": 56
        },
        "outputId": "708a8908-cc6d-4d59-e037-34a9ed56e12d"
      },
      "source": [
        "'''\n",
        "# Save Model\n",
        "modelA.save(os.path.join('drive/My Drive/Data','modelA.h5'))\n",
        "modelB.save(os.path.join('drive/My Drive/Data','modelB.h5'))\n",
        "'''"
      ],
      "execution_count": null,
      "outputs": [
        {
          "output_type": "execute_result",
          "data": {
            "text/plain": [
              "\"\\n# Save Model\\nmodelA.save(os.path.join('drive/My Drive/Data','modelA.h5'))\\nmodelB.save(os.path.join('drive/My Drive/Data','modelB.h5'))\\n\""
            ]
          },
          "metadata": {
            "tags": []
          },
          "execution_count": 243
        }
      ]
    },
    {
      "cell_type": "markdown",
      "metadata": {
        "id": "PvT5VQW3nYoN",
        "colab_type": "text"
      },
      "source": [
        "Put in line 4 and 5 the path for the folder that contains the models provided attached to the code"
      ]
    },
    {
      "cell_type": "code",
      "metadata": {
        "id": "dMq_Ph4Koz-z",
        "colab_type": "code",
        "colab": {
          "base_uri": "https://localhost:8080/",
          "height": 56
        },
        "outputId": "5c3430af-6ddf-47b4-b2c1-961200f94e63"
      },
      "source": [
        "'''\n",
        "# Load Model\n",
        "from tensorflow import keras\n",
        "\n",
        "modelA = keras.models.load_model(os.path.join('drive/My Drive/Data','modelA.h5'))\n",
        "modelB = keras.models.load_model(os.path.join('drive/My Drive/Data','modelB.h5'))\n",
        "'''"
      ],
      "execution_count": null,
      "outputs": [
        {
          "output_type": "execute_result",
          "data": {
            "text/plain": [
              "\"\\n# Load Model\\nfrom tensorflow import keras\\n\\nmodelA = keras.models.load_model(os.path.join('drive/My Drive/Data','modelA.h5'))\\nmodelB = keras.models.load_model(os.path.join('drive/My Drive/Data','modelB.h5'))\\n\""
            ]
          },
          "metadata": {
            "tags": []
          },
          "execution_count": 244
        }
      ]
    },
    {
      "cell_type": "markdown",
      "metadata": {
        "colab_type": "text",
        "id": "NzpfMm-3F-CF"
      },
      "source": [
        "#**Subtask 3**"
      ]
    },
    {
      "cell_type": "markdown",
      "metadata": {
        "id": "vbHfZQh_pYcY",
        "colab_type": "text"
      },
      "source": [
        "##CNN model results on test sets "
      ]
    },
    {
      "cell_type": "markdown",
      "metadata": {
        "id": "2oHo2UlvcSRQ",
        "colab_type": "text"
      },
      "source": [
        "We define **binary_pred** function to convert the output of the network expressed in term of probability into an array of 0 and 1, putting the threshold at 0.5"
      ]
    },
    {
      "cell_type": "code",
      "metadata": {
        "id": "e4kXnXSn8dSi",
        "colab_type": "code",
        "colab": {}
      },
      "source": [
        "def binary_pred(predictions,tv):\n",
        "\n",
        "  binary_predictions=np.zeros(len(predictions))\n",
        "  for i in range(len(predictions)):\n",
        "    if predictions[i] < tv:\n",
        "      binary_predictions[i] = 0\n",
        "    else:\n",
        "      binary_predictions[i] = 1\n",
        "\n",
        "  return binary_predictions\n",
        " "
      ],
      "execution_count": null,
      "outputs": []
    },
    {
      "cell_type": "markdown",
      "metadata": {
        "id": "J-tfrnq2TLQP",
        "colab_type": "text"
      },
      "source": [
        "We define **stat** function to compute sensitivity, specificity, accuracy, PPV, NPV of our predictions"
      ]
    },
    {
      "cell_type": "code",
      "metadata": {
        "id": "NQYKjBMZBMek",
        "colab_type": "code",
        "colab": {}
      },
      "source": [
        "from sklearn.metrics import confusion_matrix\n",
        "from sklearn.metrics import recall_score\n",
        "from sklearn.metrics import precision_score\n",
        "import math\n",
        "\n",
        "\n",
        "def stat (target_test, predictions, letter):\n",
        "  cm = confusion_matrix(target_test, predictions)\n",
        "  TN = cm[0,0]\n",
        "  FP = cm[0,1]\n",
        "  FN = cm[1,0]\n",
        "  TP = cm[1,1]\n",
        "  P = TP + FN\n",
        "  N = TN + FP\n",
        "\n",
        "  # sensitivity = TP / (TP + FN)\n",
        "  sensitivity = recall_score(target_test, predictions)\n",
        "  print ('sensitivity on test',letter,':\\n',sensitivity)\n",
        "\n",
        "  specificity = TN / (TN + FP)\n",
        "  print ('specificity on test:',letter,':\\n',specificity)\n",
        "\n",
        "  accuracy = (TP + TN) / (TP + TN + FP + FN)\n",
        "  print ('accuracy on test:',letter,':\\n',accuracy)\n",
        "\n",
        "  # PPV = TP / (TP + FP)\n",
        "  PPV = precision_score(target_test, predictions)\n",
        "  print ('PPV on test',letter,':\\n',PPV)\n",
        "\n",
        "  NPV = TN / (TN + FN)\n",
        "  print ('NPV on test',letter,':\\n',NPV)"
      ],
      "execution_count": null,
      "outputs": []
    },
    {
      "cell_type": "markdown",
      "metadata": {
        "id": "on7xwOlpTqOj",
        "colab_type": "text"
      },
      "source": [
        "We applied the defined function to the modelA predictions"
      ]
    },
    {
      "cell_type": "code",
      "metadata": {
        "id": "Afcogth4BYEo",
        "colab_type": "code",
        "colab": {
          "base_uri": "https://localhost:8080/",
          "height": 204
        },
        "outputId": "5b81dc70-e078-4eea-a167-c832a93e2078"
      },
      "source": [
        "# SUBJECT A:\n",
        "predictions_A = modelA.predict(epochs_A_TEST_reshaped)\n",
        "binary_predictions_A = binary_pred(predictions_A, 0.5)\n",
        "stat(target_A_TEST, binary_predictions_A,'A')"
      ],
      "execution_count": null,
      "outputs": [
        {
          "output_type": "stream",
          "text": [
            "sensitivity on test A :\n",
            " 0.426\n",
            "specificity on test: A :\n",
            " 0.8455333333333334\n",
            "accuracy on test: A :\n",
            " 0.7756111111111111\n",
            "PPV on test A :\n",
            " 0.3554937413073713\n",
            "NPV on test A :\n",
            " 0.8804581742450538\n"
          ],
          "name": "stdout"
        }
      ]
    },
    {
      "cell_type": "markdown",
      "metadata": {
        "id": "3PkojqY16uPP",
        "colab_type": "text"
      },
      "source": [
        "We applied the defined function to the modelB predictions"
      ]
    },
    {
      "cell_type": "code",
      "metadata": {
        "id": "aRWd4xZN6q-9",
        "colab_type": "code",
        "colab": {
          "base_uri": "https://localhost:8080/",
          "height": 204
        },
        "outputId": "dcf7e7ab-471c-4150-9314-fa02e0e9379a"
      },
      "source": [
        "# SUBJECT B:\n",
        "predictions_B = modelB.predict(epochs_B_TEST_reshaped)\n",
        "binary_predictions_B = binary_pred(predictions_B, 0.5)\n",
        "stat (target_B_TEST, binary_predictions_B,'B')"
      ],
      "execution_count": null,
      "outputs": [
        {
          "output_type": "stream",
          "text": [
            "sensitivity on test B :\n",
            " 0.306\n",
            "specificity on test: B :\n",
            " 0.9432666666666667\n",
            "accuracy on test: B :\n",
            " 0.8370555555555556\n",
            "PPV on test B :\n",
            " 0.5189372526851328\n",
            "NPV on test B :\n",
            " 0.8717269422709629\n"
          ],
          "name": "stdout"
        }
      ]
    },
    {
      "cell_type": "markdown",
      "metadata": {
        "id": "i7-0m6mFKF3S",
        "colab_type": "text"
      },
      "source": [
        "# **Subtask 4**"
      ]
    },
    {
      "cell_type": "markdown",
      "metadata": {
        "id": "yCbc_ltcb4-D",
        "colab_type": "text"
      },
      "source": [
        "We define **letter2index** function that is fed with the letter and returns as output its coding in terms of row and column"
      ]
    },
    {
      "cell_type": "code",
      "metadata": {
        "id": "oHhfmIvyb4MD",
        "colab_type": "code",
        "colab": {}
      },
      "source": [
        "def letter2index(word):\n",
        "\n",
        "  i = np.where(temp_MA==(word))[0][0] + 7\n",
        "  j = np.where(temp_MA==(word))[1][0] + 1\n",
        "  \n",
        "  return i,j"
      ],
      "execution_count": null,
      "outputs": []
    },
    {
      "cell_type": "markdown",
      "metadata": {
        "id": "_mae-7BiYnh-",
        "colab_type": "text"
      },
      "source": [
        "We define **preSpeller** function, that prepare the data to be fed into the acutal Speller: in particular we extract epochs from stimulusCode exploiting information about the signal and if needed we properly format the target word"
      ]
    },
    {
      "cell_type": "code",
      "metadata": {
        "id": "9USiPz8NKAhP",
        "colab_type": "code",
        "colab": {}
      },
      "source": [
        "def preSpeller(stimulusCode, word_TEST):\n",
        "\n",
        "  if len(word_TEST[0]) > 1:\n",
        "    word_TEST = list(word_TEST[0]) # Format the target word\n",
        "  epochs = stimCode_reduced(stimulusCode) # Extract epochs from stimulusCode exploiting information about the signal\n",
        "\n",
        "  return epochs, word_TEST\n",
        "\n",
        "# Apply the function \n",
        "epochsA , word_A = preSpeller(stimulusCode_A, word_A_TEST)\n",
        "epochsB, word_B = preSpeller(stimulusCode_B, word_B_TEST)"
      ],
      "execution_count": null,
      "outputs": []
    },
    {
      "cell_type": "markdown",
      "metadata": {
        "id": "ohoSHY3KePKu",
        "colab_type": "text"
      },
      "source": [
        "We define **code2letter** function that is fed with the number of the enhanced row/column and returns as output the letter"
      ]
    },
    {
      "cell_type": "code",
      "metadata": {
        "id": "xGAviz4eAA02",
        "colab_type": "code",
        "colab": {}
      },
      "source": [
        "def code2letter(l,k):\n",
        "  \n",
        "  temp=[l,k]\n",
        "  temp.sort()\n",
        "  l=temp[0]\n",
        "  k=temp[1]\n",
        " \n",
        "  MA=[['A','B','C','D','E','F'],\n",
        "    ['G','H','I','J','K','L'],\n",
        "    ['M','N','O','P','Q','R'],\n",
        "    ['S','T','U','V','W','X'],\n",
        "    ['Y','Z','1','2','3','4'],\n",
        "    ['5','6','7','8','9','_']]\n",
        "  \n",
        "  i=k-7\n",
        "  j=l-1\n",
        " \n",
        "  letter=MA[i][j]\n",
        "  return letter"
      ],
      "execution_count": null,
      "outputs": []
    },
    {
      "cell_type": "markdown",
      "metadata": {
        "id": "AqrKS6cHcktV",
        "colab_type": "text"
      },
      "source": [
        "We define **speller** function, that is fed with the output of the network,the rearranged StimulusCode data and the target word and it returns the predicted word and the accuracy of classification of the network at both letter and rows/columns resolution "
      ]
    },
    {
      "cell_type": "code",
      "metadata": {
        "id": "3rxYtQWfI2h1",
        "colab_type": "code",
        "colab": {}
      },
      "source": [
        "def speller(predictions, stim_code, word, repetitions=15, verbose=True):\n",
        "\n",
        "  protocol = 12 # The protocol expects a single letter acquisition is made of 12 intensifications\n",
        "  y_pred = np.reshape(predictions, (-1,180)) # Reshape 1D array into a 100x180 matrix\n",
        "  prediction = np.zeros((len(word),protocol)) # Size number_letter-by-12 (100x12) - It will store the cumsum of predictions corresponding to increasing number of repetitions over time for all the letters in dataset\n",
        "  accuracy = np.zeros(repetitions) # 15 for the 15 repetitions\n",
        "  accuracy_let = np.zeros(repetitions) # 15 for the 15 repetitions\n",
        "\n",
        "  for rep in range (0,repetitions*protocol, protocol): # Repeat 15 times with step of 12 samples\n",
        "    store_let = 0 # Temporary dummy variable to store the number of correct letter classification in one repetition\n",
        "    store=0 # Temporary dummy variable to store the number of correct classification (P300 or not) in one repetition\n",
        "    final_word = []\n",
        "\n",
        "    for let in range(y_pred.shape[0]): # looping in whole dataset letters # range(5):\n",
        "      temp_pred = y_pred[let, rep : rep + 12] # extract a single repetion for a single letter\n",
        "      stim_code_temp = stim_code[let, rep : rep + 12].astype('int32') # extract the corresponding stimulus code for the extracted repetition\n",
        "      prediction[let] += temp_pred[stim_code_temp.argsort()] # Sort the prediction according to its stimulus code, so I end up with an array in which at the first place I have\n",
        "      # the cumulative probability to find a P300 at the given point of the session, taking into account all the past repetitions\n",
        "      # stim_code_temp.argsort() gives me the indeces that i need to order my stimulus code inside the repetition in order to have [1,2,3,4,5,6,7,8,9,10,11,12]\n",
        "      i = np.argmax(prediction[let,6:12]) + 7 # From 7 to 12 we have the rows\n",
        "      j = np.argmax(prediction[let,0:6]) + 1 # From 1 to 6 we have the colums\n",
        "      target_letter = code2letter(i,j) # Find correspondant letter\n",
        "      final_word.append(target_letter) # POSSIBLE ERROR HERE IN THE BRACKETS # Put the letter into the result\n",
        "      if word[let] == target_letter:\n",
        "        store_let += 1\n",
        "      i_temp, j_temp = letter2index(word[let]) # Getting the stimulus code for the letter I'm considering\n",
        "      if i == i_temp: # Check if the stimulus code is the same for rows\n",
        "        store += 1 # Then I properly classify my epoch\n",
        "      if j == j_temp: # Check if the stimulus code is the same for rows\n",
        "        store +=1 # Then I properly classify my epoch\n",
        "  \n",
        "  # Compute accuracy with a resolution of rows-and-columns and of letters\n",
        "    accuracy[int(rep/protocol)] = store / (len(word)*2) # I divided by len(word)*2 because for each letter I need to classify properly one row and one column\n",
        "    accuracy_let[int(rep/protocol)] = store_let / len(word)\n",
        "\n",
        "# Print results\n",
        "  if verbose:\n",
        "    print(\"**********************************\")\n",
        "    print(\"          RESULTS          \")\n",
        "    print(\"**********************************\")\n",
        "    print(\"Number of repetitions: %d\" % repetitions)\n",
        "    print(\"Accuracy of rows and columns classification: \" + str(accuracy))\n",
        "    print(\"Accuracy of letters classification: \" + str(accuracy_let))\n",
        "    print(\"final word: \", str(final_word))\n",
        "    print(\"real word: \", str(word))\n",
        "    print()\n",
        "  \n",
        "  return final_word, accuracy, accuracy_let"
      ],
      "execution_count": null,
      "outputs": []
    },
    {
      "cell_type": "markdown",
      "metadata": {
        "id": "XS0HtE1VdL0u",
        "colab_type": "text"
      },
      "source": [
        "In the following cells, we compute the predicted word for subject A and B using 15 and 5 repetitions"
      ]
    },
    {
      "cell_type": "code",
      "metadata": {
        "id": "q1fhxxFWblZs",
        "colab_type": "code",
        "colab": {
          "base_uri": "https://localhost:8080/",
          "height": 243
        },
        "outputId": "741a5b1f-1865-4245-f3ab-7f83e6319488"
      },
      "source": [
        "target_word_A,accuracy_A,accuracy_let_A = speller(predictions_A, epochsA, word_A)"
      ],
      "execution_count": null,
      "outputs": [
        {
          "output_type": "stream",
          "text": [
            "**********************************\n",
            "          RESULTS          \n",
            "**********************************\n",
            "Number of repetitions: 15\n",
            "Accuracy of rows and columns classification: [0.325 0.465 0.515 0.605 0.63  0.73  0.77  0.795 0.83  0.835 0.865 0.88\n",
            " 0.88  0.9   0.91 ]\n",
            "Accuracy of letters classification: [0.08 0.23 0.29 0.41 0.42 0.55 0.62 0.64 0.69 0.71 0.77 0.79 0.77 0.82\n",
            " 0.84]\n",
            "final word:  ['W', 'Q', 'X', 'P', 'L', 'Z', 'C', 'O', 'M', 'R', 'W', 'O', '9', '7', 'Y', 'F', 'Z', 'D', 'E', 'Z', '1', 'D', 'Q', 'A', '9', 'N', 'N', 'V', 'G', 'R', '8', 'D', 'K', 'C', 'U', 'V', 'R', 'M', 'E', 'U', 'O', 'O', 'O', 'J', 'D', '2', 'T', 'F', 'Y', 'P', 'O', 'O', '5', 'J', '7', 'L', 'D', 'G', 'Y', 'E', 'G', 'O', 'A', '5', 'V', 'T', 'N', 'E', 'L', 'B', 'T', '_', 'O', 'O', '1', 'T', 'D', 'O', 'I', 'L', 'U', 'E', 'E', '5', 'N', 'A', 'A', 'F', 'E', 'X', 'A', 'E', '_', 'K', '3', 'R', 'Y', 'M', 'R', 'U']\n",
            "real word:  ['W', 'Q', 'X', 'P', 'L', 'Z', 'C', 'O', 'M', 'R', 'K', 'O', '9', '7', 'Y', 'F', 'Z', 'D', 'E', 'Z', '1', 'D', 'P', 'I', '9', 'N', 'N', 'V', 'G', 'R', 'Q', 'D', 'J', 'C', 'U', 'V', 'R', 'M', 'E', 'U', 'O', 'O', 'O', 'J', 'D', '2', 'U', 'F', 'Y', 'P', 'O', 'O', '6', 'J', '7', 'L', 'D', 'G', 'Y', 'E', 'G', 'O', 'A', '5', 'V', 'H', 'N', 'E', 'H', 'B', 'T', 'X', 'O', 'O', '1', 'T', 'D', 'O', 'I', 'L', 'U', 'E', 'E', '5', 'B', 'F', 'A', 'E', 'E', 'X', 'A', 'W', '_', 'K', '4', 'R', '3', 'M', 'R', 'U']\n",
            "\n"
          ],
          "name": "stdout"
        }
      ]
    },
    {
      "cell_type": "code",
      "metadata": {
        "id": "NYe9iZQqfZa_",
        "colab_type": "code",
        "colab": {
          "base_uri": "https://localhost:8080/",
          "height": 205
        },
        "outputId": "36ecba62-cc00-4dbb-9103-3e5845c1fa14"
      },
      "source": [
        "target_word_A_5,_,_ = speller(predictions_A, epochsA, word_A, repetitions=5)"
      ],
      "execution_count": null,
      "outputs": [
        {
          "output_type": "stream",
          "text": [
            "**********************************\n",
            "          RESULTS          \n",
            "**********************************\n",
            "Number of repetitions: 5\n",
            "Accuracy of rows and columns classification: [0.325 0.465 0.515 0.605 0.63 ]\n",
            "Accuracy of letters classification: [0.08 0.23 0.29 0.41 0.42]\n",
            "final word:  ['W', 'Q', 'K', '7', 'L', 'Z', 'E', 'O', 'G', '7', 'W', 'O', 'Q', '_', '4', 'F', 'S', 'A', 'E', 'Z', 'O', 'D', 'J', 'F', '9', 'Y', 'H', 'T', 'G', 'R', '8', 'D', 'E', 'C', '7', 'J', 'N', 'A', '9', 'U', 'O', 'U', '7', 'H', 'D', '8', 'N', 'F', 'M', '2', 'O', 'P', '2', 'H', '7', 'L', 'D', 'M', 'Y', 'E', 'G', 'T', 'G', '8', 'V', 'W', 'N', 'K', '5', 'B', 'Z', 'Y', 'O', 'O', '1', 'N', 'E', 'N', 'L', 'L', 'U', 'E', 'D', 'A', '6', 'M', 'A', 'R', 'E', 'W', 'A', 'W', '_', 'H', '2', 'Q', 'Y', 'M', 'P', 'U']\n",
            "real word:  ['W', 'Q', 'X', 'P', 'L', 'Z', 'C', 'O', 'M', 'R', 'K', 'O', '9', '7', 'Y', 'F', 'Z', 'D', 'E', 'Z', '1', 'D', 'P', 'I', '9', 'N', 'N', 'V', 'G', 'R', 'Q', 'D', 'J', 'C', 'U', 'V', 'R', 'M', 'E', 'U', 'O', 'O', 'O', 'J', 'D', '2', 'U', 'F', 'Y', 'P', 'O', 'O', '6', 'J', '7', 'L', 'D', 'G', 'Y', 'E', 'G', 'O', 'A', '5', 'V', 'H', 'N', 'E', 'H', 'B', 'T', 'X', 'O', 'O', '1', 'T', 'D', 'O', 'I', 'L', 'U', 'E', 'E', '5', 'B', 'F', 'A', 'E', 'E', 'X', 'A', 'W', '_', 'K', '4', 'R', '3', 'M', 'R', 'U']\n",
            "\n"
          ],
          "name": "stdout"
        }
      ]
    },
    {
      "cell_type": "code",
      "metadata": {
        "id": "bt17bvS6fgi3",
        "colab_type": "code",
        "colab": {
          "base_uri": "https://localhost:8080/",
          "height": 243
        },
        "outputId": "a26f6cf1-771a-4c29-f55b-a28eb8e257d1"
      },
      "source": [
        "target_word_B,accuracy_B,accuracy_let_B = speller(predictions_B, epochsB, word_B)"
      ],
      "execution_count": null,
      "outputs": [
        {
          "output_type": "stream",
          "text": [
            "**********************************\n",
            "          RESULTS          \n",
            "**********************************\n",
            "Number of repetitions: 15\n",
            "Accuracy of rows and columns classification: [0.435 0.625 0.68  0.745 0.785 0.82  0.855 0.865 0.87  0.905 0.885 0.93\n",
            " 0.955 0.94  0.945]\n",
            "Accuracy of letters classification: [0.17 0.39 0.52 0.56 0.61 0.69 0.74 0.77 0.78 0.84 0.78 0.88 0.92 0.9\n",
            " 0.9 ]\n",
            "final word:  ['M', 'E', 'R', 'M', 'I', 'O', 'O', 'O', 'M', 'U', 'Z', 'J', 'P', 'X', 'J', 'O', 'H', 'U', 'V', '_', 'C', 'O', 'R', 'Z', 'P', '3', 'G', 'L', 'O', 'O', '7', 'M', 'U', 'F', 'D', 'J', 'E', 'F', 'T', 'W', 'E', 'M', 'O', 'A', 'L', 'Z', 'O', 'P', '9', 'R', 'O', 'C', 'G', 'Z', 'E', 'S', '1', 'Y', '1', '9', 'E', 'W', 'X', '6', '5', 'Q', 'U', 'K', 'U', '7', 'N', 'A', 'K', '_', '4', 'S', 'C', 'J', 'D', 'V', 'D', 'N', 'G', 'Q', 'X', 'O', 'D', 'B', 'E', 'V', '2', 'B', '5', 'E', 'F', 'D', 'I', 'D', 'N', 'R']\n",
            "real word:  ['M', 'E', 'R', 'M', 'I', 'R', 'O', 'O', 'M', 'U', 'H', 'J', 'P', 'X', 'J', 'O', 'H', 'U', 'V', 'L', 'E', 'O', 'R', 'Z', 'P', '3', 'G', 'L', 'O', 'O', '7', 'A', 'U', 'F', 'D', 'K', 'E', 'F', 'T', 'W', 'E', 'O', 'O', 'A', 'L', 'Z', 'O', 'P', '9', 'R', 'O', 'C', 'G', 'Z', 'E', 'T', '1', 'Y', '1', '9', 'E', 'W', 'X', '6', '5', 'Q', 'U', 'Y', 'U', '7', 'N', 'A', 'K', '_', '4', 'Y', 'C', 'J', 'D', 'V', 'D', 'N', 'G', 'Q', 'X', 'O', 'D', 'B', 'E', 'V', '2', 'B', '5', 'E', 'F', 'D', 'I', 'D', 'N', 'R']\n",
            "\n"
          ],
          "name": "stdout"
        }
      ]
    },
    {
      "cell_type": "code",
      "metadata": {
        "id": "zHP3-dIefhZi",
        "colab_type": "code",
        "colab": {
          "base_uri": "https://localhost:8080/",
          "height": 205
        },
        "outputId": "bb2a9bc0-c790-42f3-fcd9-c5a7654482d4"
      },
      "source": [
        "target_word_B_5,_,_ = speller(predictions_B, epochsB, word_B, repetitions=5)"
      ],
      "execution_count": null,
      "outputs": [
        {
          "output_type": "stream",
          "text": [
            "**********************************\n",
            "          RESULTS          \n",
            "**********************************\n",
            "Number of repetitions: 5\n",
            "Accuracy of rows and columns classification: [0.435 0.625 0.68  0.745 0.785]\n",
            "Accuracy of letters classification: [0.17 0.39 0.52 0.56 0.61]\n",
            "final word:  ['A', 'C', 'R', 'M', 'I', 'M', 'O', 'O', 'S', 'U', 'Z', 'J', 'O', 'L', 'J', 'O', 'H', 'U', 'V', 'X', 'B', 'O', 'R', 'T', 'Q', '2', 'A', 'L', 'O', 'O', 'I', 'A', 'S', 'F', 'C', 'K', 'F', 'F', 'T', 'V', 'B', 'O', 'O', 'A', 'F', '1', 'O', 'O', '9', 'Q', 'Z', 'C', 'G', 'Z', 'E', '6', '1', 'Y', 'Z', '9', 'E', 'W', 'T', '6', '5', 'Q', 'U', 'G', 'U', '7', 'N', 'A', 'D', '8', '4', '5', 'C', 'P', 'A', 'V', 'D', 'N', 'D', 'K', 'X', 'O', 'W', 'B', 'D', 'V', '2', 'B', '5', 'E', 'F', 'D', 'I', 'B', 'T', 'R']\n",
            "real word:  ['M', 'E', 'R', 'M', 'I', 'R', 'O', 'O', 'M', 'U', 'H', 'J', 'P', 'X', 'J', 'O', 'H', 'U', 'V', 'L', 'E', 'O', 'R', 'Z', 'P', '3', 'G', 'L', 'O', 'O', '7', 'A', 'U', 'F', 'D', 'K', 'E', 'F', 'T', 'W', 'E', 'O', 'O', 'A', 'L', 'Z', 'O', 'P', '9', 'R', 'O', 'C', 'G', 'Z', 'E', 'T', '1', 'Y', '1', '9', 'E', 'W', 'X', '6', '5', 'Q', 'U', 'Y', 'U', '7', 'N', 'A', 'K', '_', '4', 'Y', 'C', 'J', 'D', 'V', 'D', 'N', 'G', 'Q', 'X', 'O', 'D', 'B', 'E', 'V', '2', 'B', '5', 'E', 'F', 'D', 'I', 'D', 'N', 'R']\n",
            "\n"
          ],
          "name": "stdout"
        }
      ]
    },
    {
      "cell_type": "markdown",
      "metadata": {
        "id": "lyaKVOBMlmEZ",
        "colab_type": "text"
      },
      "source": [
        "The aim of this cell is to save the resulting arrays of predicted letters in matlab format, as specified by the goal specifications"
      ]
    },
    {
      "cell_type": "code",
      "metadata": {
        "id": "yo6UbIlgYHXk",
        "colab_type": "code",
        "colab": {
          "base_uri": "https://localhost:8080/",
          "height": 56
        },
        "outputId": "e890b441-2732-4e24-e6a1-a54691909c43"
      },
      "source": [
        "'''\n",
        "data = {'SA15': ''.join([str(item) for item in target_word_A]), \n",
        "        'SB15': ''.join([str(item) for item in target_word_B]), \n",
        "        'SA5': ''.join([str(item) for item in target_word_A_5]), \n",
        "        'SB5': ''.join([str(item) for item in target_word_B_5])\n",
        "        }\n",
        "savemat('results.mat', data)\n",
        "\n",
        "# Download the matlab file containing results\n",
        "from google.colab import files\n",
        "files.download('./results.mat')\n",
        "'''"
      ],
      "execution_count": null,
      "outputs": [
        {
          "output_type": "execute_result",
          "data": {
            "text/plain": [
              "\"\\ndata = {'SA15': ''.join([str(item) for item in target_word_A]), \\n        'SB15': ''.join([str(item) for item in target_word_B]), \\n        'SA5': ''.join([str(item) for item in target_word_A_5]), \\n        'SB5': ''.join([str(item) for item in target_word_B_5])\\n        }\\nsavemat('results.mat', data)\\n\\n# Download the matlab file containing results\\nfrom google.colab import files\\nfiles.download('./results.mat')\\n\""
            ]
          },
          "metadata": {
            "tags": []
          },
          "execution_count": 257
        }
      ]
    },
    {
      "cell_type": "code",
      "metadata": {
        "id": "7wbscdn52P-o",
        "colab_type": "code",
        "colab": {
          "base_uri": "https://localhost:8080/",
          "height": 1000
        },
        "outputId": "cf450a81-9adb-481e-bbc3-c1466ecdab57"
      },
      "source": [
        "t = range(1,16)\n",
        "fig = plt.figure(figsize=(12,10))\n",
        "plt.grid(True)\n",
        "plt.gca().set_ylim(0, 1) # set the vertical range to [0-1]\n",
        "plt.plot(t, accuracy_A, t, accuracy_B)\n",
        "plt.xlabel('Repetitions', size='xx-large')\n",
        "plt.xticks(t)\n",
        "plt.ylabel('Accuracy', size='xx-large')\n",
        "fig.suptitle('Repetitions test', size='xx-large')\n",
        "fig.legend(['Model A applied to Subject A',' Model B applied to Subject B'])\n",
        "plt.show()\n",
        "\n",
        "fig.savefig('accuracy.png')\n",
        "files.download('accuracy.png')"
      ],
      "execution_count": null,
      "outputs": [
        {
          "output_type": "display_data",
          "data": {
            "image/png": "[encoded data removed]",
            "text/plain": [
              "<Figure size 864x720 with 1 Axes>"
            ]
          },
          "metadata": {
            "tags": []
          }
        },
        {
          "output_type": "error",
          "ename": "MessageError",
          "evalue": "ignored",
          "traceback": [
            "\u001b[0;31m---------------------------------------------------------------------------\u001b[0m",
            "\u001b[0;31mMessageError\u001b[0m                              Traceback (most recent call last)",
            "\u001b[0;32m<ipython-input-258-52b41599018e>\u001b[0m in \u001b[0;36m<module>\u001b[0;34m()\u001b[0m\n\u001b[1;32m     12\u001b[0m \u001b[0;34m\u001b[0m\u001b[0m\n\u001b[1;32m     13\u001b[0m \u001b[0mfig\u001b[0m\u001b[0;34m.\u001b[0m\u001b[0msavefig\u001b[0m\u001b[0;34m(\u001b[0m\u001b[0;34m'accuracy.png'\u001b[0m\u001b[0;34m)\u001b[0m\u001b[0;34m\u001b[0m\u001b[0;34m\u001b[0m\u001b[0m\n\u001b[0;32m---> 14\u001b[0;31m \u001b[0mfiles\u001b[0m\u001b[0;34m.\u001b[0m\u001b[0mdownload\u001b[0m\u001b[0;34m(\u001b[0m\u001b[0;34m'accuracy.png'\u001b[0m\u001b[0;34m)\u001b[0m\u001b[0;34m\u001b[0m\u001b[0;34m\u001b[0m\u001b[0m\n\u001b[0m",
            "\u001b[0;32m/usr/local/lib/python3.6/dist-packages/google/colab/files.py\u001b[0m in \u001b[0;36mdownload\u001b[0;34m(filename)\u001b[0m\n\u001b[1;32m    176\u001b[0m       \u001b[0;34m'port'\u001b[0m\u001b[0;34m:\u001b[0m \u001b[0mport\u001b[0m\u001b[0;34m,\u001b[0m\u001b[0;34m\u001b[0m\u001b[0;34m\u001b[0m\u001b[0m\n\u001b[1;32m    177\u001b[0m       \u001b[0;34m'path'\u001b[0m\u001b[0;34m:\u001b[0m \u001b[0m_os\u001b[0m\u001b[0;34m.\u001b[0m\u001b[0mpath\u001b[0m\u001b[0;34m.\u001b[0m\u001b[0mabspath\u001b[0m\u001b[0;34m(\u001b[0m\u001b[0mfilename\u001b[0m\u001b[0;34m)\u001b[0m\u001b[0;34m,\u001b[0m\u001b[0;34m\u001b[0m\u001b[0;34m\u001b[0m\u001b[0m\n\u001b[0;32m--> 178\u001b[0;31m       \u001b[0;34m'name'\u001b[0m\u001b[0;34m:\u001b[0m \u001b[0m_os\u001b[0m\u001b[0;34m.\u001b[0m\u001b[0mpath\u001b[0m\u001b[0;34m.\u001b[0m\u001b[0mbasename\u001b[0m\u001b[0;34m(\u001b[0m\u001b[0mfilename\u001b[0m\u001b[0;34m)\u001b[0m\u001b[0;34m,\u001b[0m\u001b[0;34m\u001b[0m\u001b[0;34m\u001b[0m\u001b[0m\n\u001b[0m\u001b[1;32m    179\u001b[0m   })\n",
            "\u001b[0;32m/usr/local/lib/python3.6/dist-packages/google/colab/output/_js.py\u001b[0m in \u001b[0;36meval_js\u001b[0;34m(script, ignore_result)\u001b[0m\n\u001b[1;32m     37\u001b[0m   \u001b[0;32mif\u001b[0m \u001b[0mignore_result\u001b[0m\u001b[0;34m:\u001b[0m\u001b[0;34m\u001b[0m\u001b[0;34m\u001b[0m\u001b[0m\n\u001b[1;32m     38\u001b[0m     \u001b[0;32mreturn\u001b[0m\u001b[0;34m\u001b[0m\u001b[0;34m\u001b[0m\u001b[0m\n\u001b[0;32m---> 39\u001b[0;31m   \u001b[0;32mreturn\u001b[0m \u001b[0m_message\u001b[0m\u001b[0;34m.\u001b[0m\u001b[0mread_reply_from_input\u001b[0m\u001b[0;34m(\u001b[0m\u001b[0mrequest_id\u001b[0m\u001b[0;34m)\u001b[0m\u001b[0;34m\u001b[0m\u001b[0;34m\u001b[0m\u001b[0m\n\u001b[0m\u001b[1;32m     40\u001b[0m \u001b[0;34m\u001b[0m\u001b[0m\n\u001b[1;32m     41\u001b[0m \u001b[0;34m\u001b[0m\u001b[0m\n",
            "\u001b[0;32m/usr/local/lib/python3.6/dist-packages/google/colab/_message.py\u001b[0m in \u001b[0;36mread_reply_from_input\u001b[0;34m(message_id, timeout_sec)\u001b[0m\n\u001b[1;32m    104\u001b[0m         reply.get('colab_msg_id') == message_id):\n\u001b[1;32m    105\u001b[0m       \u001b[0;32mif\u001b[0m \u001b[0;34m'error'\u001b[0m \u001b[0;32min\u001b[0m \u001b[0mreply\u001b[0m\u001b[0;34m:\u001b[0m\u001b[0;34m\u001b[0m\u001b[0;34m\u001b[0m\u001b[0m\n\u001b[0;32m--> 106\u001b[0;31m         \u001b[0;32mraise\u001b[0m \u001b[0mMessageError\u001b[0m\u001b[0;34m(\u001b[0m\u001b[0mreply\u001b[0m\u001b[0;34m[\u001b[0m\u001b[0;34m'error'\u001b[0m\u001b[0;34m]\u001b[0m\u001b[0;34m)\u001b[0m\u001b[0;34m\u001b[0m\u001b[0;34m\u001b[0m\u001b[0m\n\u001b[0m\u001b[1;32m    107\u001b[0m       \u001b[0;32mreturn\u001b[0m \u001b[0mreply\u001b[0m\u001b[0;34m.\u001b[0m\u001b[0mget\u001b[0m\u001b[0;34m(\u001b[0m\u001b[0;34m'data'\u001b[0m\u001b[0;34m,\u001b[0m \u001b[0;32mNone\u001b[0m\u001b[0;34m)\u001b[0m\u001b[0;34m\u001b[0m\u001b[0;34m\u001b[0m\u001b[0m\n\u001b[1;32m    108\u001b[0m \u001b[0;34m\u001b[0m\u001b[0m\n",
            "\u001b[0;31mMessageError\u001b[0m: TypeError: NetworkError when attempting to fetch resource."
          ]
        }
      ]
    },
    {
      "cell_type": "markdown",
      "metadata": {
        "id": "4p5siYzv9-9V",
        "colab_type": "text"
      },
      "source": [
        "#**Subtask 5**"
      ]
    },
    {
      "cell_type": "markdown",
      "metadata": {
        "id": "u0cwmTvGrJWp",
        "colab_type": "text"
      },
      "source": [
        "##Network trained on subject A to predict the EEG epochs of subject B"
      ]
    },
    {
      "cell_type": "markdown",
      "metadata": {
        "id": "bHciugYRj3z2",
        "colab_type": "text"
      },
      "source": [
        "We obtain the results in terms of classification performance when using the network trained on subject A to predict the EEG epochs of subject B"
      ]
    },
    {
      "cell_type": "code",
      "metadata": {
        "id": "KvsnAFvN_SL1",
        "colab_type": "code",
        "colab": {
          "base_uri": "https://localhost:8080/",
          "height": 204
        },
        "outputId": "34b023b2-1059-4cc9-ee22-82f80c65a31c"
      },
      "source": [
        "predictions_B_on_A = modelB.predict(epochs_A_TEST_reshaped)\n",
        "binary_predictions_B_on_A = binary_pred(predictions_B_on_A, 0.5)\n",
        "stat(target_B_TEST, binary_predictions_B_on_A,'B on A')"
      ],
      "execution_count": null,
      "outputs": [
        {
          "output_type": "stream",
          "text": [
            "sensitivity on test B on A :\n",
            " 0.07466666666666667\n",
            "specificity on test: B on A :\n",
            " 0.9267333333333333\n",
            "accuracy on test: B on A :\n",
            " 0.7847222222222222\n",
            "PPV on test B on A :\n",
            " 0.1693121693121693\n",
            "NPV on test B on A :\n",
            " 0.8335432032140073\n"
          ],
          "name": "stdout"
        }
      ]
    },
    {
      "cell_type": "markdown",
      "metadata": {
        "id": "Z4qzwxJ9k8LZ",
        "colab_type": "text"
      },
      "source": [
        "Then, we obtain the results also in term of accuracy in letter prediction again by using the network trained on A to predict letters of subject B"
      ]
    },
    {
      "cell_type": "code",
      "metadata": {
        "id": "ujATvnUH-c_5",
        "colab_type": "code",
        "colab": {
          "base_uri": "https://localhost:8080/",
          "height": 243
        },
        "outputId": "af2a0b25-82c5-438b-e6fe-3033c26109bd"
      },
      "source": [
        "_,accuracy_BA,_ = speller(predictions_B_on_A, epochsB, word_B)"
      ],
      "execution_count": null,
      "outputs": [
        {
          "output_type": "stream",
          "text": [
            "**********************************\n",
            "          RESULTS          \n",
            "**********************************\n",
            "Number of repetitions: 15\n",
            "Accuracy of rows and columns classification: [0.17  0.155 0.18  0.16  0.165 0.17  0.16  0.185 0.175 0.17  0.165 0.155\n",
            " 0.16  0.16  0.17 ]\n",
            "Accuracy of letters classification: [0.01 0.01 0.05 0.04 0.01 0.01 0.01 0.04 0.   0.02 0.01 0.02 0.05 0.03\n",
            " 0.03]\n",
            "final word:  ['Z', 'C', '6', 'C', 'G', '3', 'K', 'E', '1', 'C', 'G', 'L', '5', 'D', 'X', '2', '4', 'Q', '4', 'X', 'Q', 'G', 'Y', 'G', 'K', 'A', 'E', 'D', 'X', '6', '9', '7', 'H', '9', 'F', 'X', 'W', 'Z', 'C', '3', '7', '4', 'D', '4', 'C', 'T', '6', 'K', 'P', 'R', 'Z', 'X', 'A', '6', 'K', 'N', '5', 'K', 'G', 'Q', '6', 'R', 'O', 'A', 'T', 'L', 'S', '3', 'V', 'M', '9', 'U', 'G', '7', '4', 'N', '4', 'U', 'A', 'X', '9', '8', '8', 'V', 'N', '8', '5', 'J', 'T', '7', 'J', 'H', 'J', 'X', 'F', 'N', 'V', '8', 'M', 'B']\n",
            "real word:  ['M', 'E', 'R', 'M', 'I', 'R', 'O', 'O', 'M', 'U', 'H', 'J', 'P', 'X', 'J', 'O', 'H', 'U', 'V', 'L', 'E', 'O', 'R', 'Z', 'P', '3', 'G', 'L', 'O', 'O', '7', 'A', 'U', 'F', 'D', 'K', 'E', 'F', 'T', 'W', 'E', 'O', 'O', 'A', 'L', 'Z', 'O', 'P', '9', 'R', 'O', 'C', 'G', 'Z', 'E', 'T', '1', 'Y', '1', '9', 'E', 'W', 'X', '6', '5', 'Q', 'U', 'Y', 'U', '7', 'N', 'A', 'K', '_', '4', 'Y', 'C', 'J', 'D', 'V', 'D', 'N', 'G', 'Q', 'X', 'O', 'D', 'B', 'E', 'V', '2', 'B', '5', 'E', 'F', 'D', 'I', 'D', 'N', 'R']\n",
            "\n"
          ],
          "name": "stdout"
        }
      ]
    },
    {
      "cell_type": "code",
      "metadata": {
        "id": "sXaBIDowj4rA",
        "colab_type": "code",
        "colab": {
          "base_uri": "https://localhost:8080/",
          "height": 695
        },
        "outputId": "e6e4e9c2-2519-4897-e68b-7ff0797e7276"
      },
      "source": [
        "t = range(1,16)\n",
        "fig = plt.figure(figsize=(12,10))\n",
        "plt.grid(True)\n",
        "plt.gca().set_ylim(0, 1) # set the vertical range to [0-1]\n",
        "plt.plot(t, accuracy_A, t, accuracy_B, t, accuracy_BA)\n",
        "plt.xlabel('Repetitions', size='xx-large')\n",
        "plt.xticks(t)\n",
        "plt.ylabel('Accuracy', size='xx-large')\n",
        "fig.suptitle('Repetitions test', size='xx-large')\n",
        "fig.legend(['Model A applied to Subject A',' Model B applied to Subject B', 'Model A applied to Subject B'])\n",
        "plt.show()\n",
        "\n",
        "fig.savefig('accuracy_total.png')\n",
        "files.download('accuracy_total.png')"
      ],
      "execution_count": null,
      "outputs": [
        {
          "output_type": "display_data",
          "data": {
            "image/png": "[encoded data removed]",
            "text/plain": [
              "<Figure size 864x720 with 1 Axes>"
            ]
          },
          "metadata": {
            "tags": []
          }
        }
      ]
    },
    {
      "cell_type": "markdown",
      "metadata": {
        "id": "WHlpBsCgshX_",
        "colab_type": "text"
      },
      "source": [
        "## Network trained on both subjects A and B"
      ]
    },
    {
      "cell_type": "markdown",
      "metadata": {
        "id": "zGxJuU2iBkfR",
        "colab_type": "text"
      },
      "source": [
        "To analyze the\tperformance\tof\tthe\tnetwork\twhen\ttrained\ton\tdata\tof\tboth\tsubjects, we combine the two dataset"
      ]
    },
    {
      "cell_type": "code",
      "metadata": {
        "id": "_rQSZrCsc5gx",
        "colab_type": "code",
        "colab": {}
      },
      "source": [
        "flag = True"
      ],
      "execution_count": null,
      "outputs": []
    },
    {
      "cell_type": "code",
      "metadata": {
        "id": "2pP0REHAVBYe",
        "colab_type": "code",
        "colab": {}
      },
      "source": [
        "'''\n",
        "if flag:\n",
        "  epochs_B_TRAIN_noP300 = matrixchannel(epochs_B_TRAIN_noP300)\n",
        "  epochs_B_TRAIN_P300 = matrixchannel(epochs_B_TRAIN_P300)\n",
        "  flag = False\n",
        "\n",
        "a = np.random.randint(0,12750,size=2550)\n",
        "b = np.random.randint(0,12750,size=2550)\n",
        "epochs_A_TRAIN_noP300a = epochs_A_TRAIN_noP300[a] # balancing the datasets after shuffling the data (truncating the extra data)\n",
        "epochs_B_TRAIN_noP300b = matrixchannel(epochs_B_TRAIN_noP300[b] # balancing the datasets after shuffling the data (truncating the extra data)\n",
        "epochs_A_TRAINa = np.concatenate((epochs_A_TRAIN_noP300a, epochs_A_TRAIN_P300))\n",
        "epochs_B_TRAINb = np.concatenate((epochs_B_TRAIN_noP300b, epochs_B_TRAIN_P300))\n",
        "'''"
      ],
      "execution_count": null,
      "outputs": []
    },
    {
      "cell_type": "code",
      "metadata": {
        "id": "lkyj2dHaB366",
        "colab_type": "code",
        "colab": {}
      },
      "source": [
        "'''\n",
        "epochs_AB_TRAIN_reshaped=np.concatenate((epochs_A_TRAINa[:len(epochs_A_TRAINa)//2],epochs_B_TRAINb[:len(epochs_B_TRAINb)//2]))\n",
        "epochs_AB_TEST_reshaped=np.concatenate((epochs_A_TEST_reshaped[a],epochs_B_TEST_reshaped[b]))\n",
        "target_AB_TRAIN=np.concatenate((target_A_TRAIN[a],target_B_TRAIN[b]))\n",
        "target_AB_TEST=np.concatenate((target_A_TEST[a],target_B_TEST[b]))\n",
        "stimulusCode_AB=np.concatenate((stimulusCode_A,stimulusCode_B))\n",
        "word_AB=word_A+word_B\n",
        "#epochs_AB_TRAIN_reshaped = np.expand_dims(epochs_AB_TRAIN_reshaped, axis=4)\n",
        "'''"
      ],
      "execution_count": null,
      "outputs": []
    },
    {
      "cell_type": "code",
      "metadata": {
        "id": "odwgDQNOovdi",
        "colab_type": "code",
        "colab": {}
      },
      "source": [
        "#epochs_AB_TRAIN_reshaped = np.expand_dims(epochs_AB_TRAIN_reshaped, axis=4)"
      ],
      "execution_count": null,
      "outputs": []
    },
    {
      "cell_type": "code",
      "metadata": {
        "id": "5oDZy8OWxVOB",
        "colab_type": "code",
        "colab": {}
      },
      "source": [
        "epochs_AB_TRAIN_reshaped=np.concatenate((epochs_A_TRAIN_reshaped,epochs_B_TRAIN_reshaped))\n",
        "epochs_AB_TEST_reshaped=np.concatenate((epochs_A_TEST_reshaped,epochs_B_TEST_reshaped))\n",
        "target_AB_TRAIN=np.concatenate((target_A_TRAIN,target_B_TRAIN))\n",
        "target_AB_TEST=np.concatenate((target_A_TEST,target_B_TEST))\n",
        "stimulusCode_AB=np.concatenate((stimulusCode_A,stimulusCode_B))"
      ],
      "execution_count": null,
      "outputs": []
    },
    {
      "cell_type": "markdown",
      "metadata": {
        "id": "HsAE4dQemVMQ",
        "colab_type": "text"
      },
      "source": [
        "We create the model again in order to train it on both subject"
      ]
    },
    {
      "cell_type": "code",
      "metadata": {
        "id": "edho6-8fmQL2",
        "colab_type": "code",
        "colab": {}
      },
      "source": [
        "# MODEL AB\n",
        "from tensorflow import keras\n",
        "from keras import backend as K\n",
        "import tensorflow as tf\n",
        "\n",
        "# Define our custom loss function\n",
        "def focal_loss(y_true, y_pred):\n",
        "    gamma = 2.0\n",
        "    alpha = 0.25\n",
        "    pt_1 = tf.where(tf.equal(y_true, 1), y_pred, tf.ones_like(y_pred))\n",
        "    pt_0 = tf.where(tf.equal(y_true, 0), y_pred, tf.zeros_like(y_pred))\n",
        "    return -K.sum(alpha * K.pow(1. - pt_1, gamma) * K.log(pt_1))-K.sum((1-alpha) * K.pow( pt_0, gamma) * K.log(1. - pt_0))\n",
        "\n",
        "\n",
        "modelAB = keras.models.Sequential([\n",
        "        keras.layers.Conv3D(filters=32, input_shape=[24, 10, 11, 1], kernel_size = [3,2,2], strides=(2,1,1),activation = 'elu', padding=\"SAME\", \n",
        "                            kernel_regularizer= keras.regularizers.l2(l=0.02)),\n",
        "                            \n",
        "        keras.layers.Conv3D(filters=64, kernel_size = [2,2,2], strides=(2,1,1),activation = 'elu', padding=\"SAME\",\n",
        "                            kernel_regularizer= keras.regularizers.l2(l=0.02)),\n",
        "\n",
        "        keras.layers.MaxPool3D(pool_size=(1,3,3)),\n",
        "        keras.layers.BatchNormalization(), # normalizing the batch\n",
        "\n",
        "        keras.layers.Flatten(),\n",
        "        keras.layers.Dense(units=124, activation='elu', kernel_regularizer= keras.regularizers.l2(l=0.02)),\n",
        "        keras.layers.Dropout(0.4),\n",
        "        keras.layers.Dense(units=124, activation='elu', kernel_regularizer= keras.regularizers.l2(l=0.02)),\n",
        "        keras.layers.Dropout(0.4),\n",
        "\n",
        "        keras.layers.Dense(units=1, activation='softmax')                                 \n",
        "])"
      ],
      "execution_count": null,
      "outputs": []
    },
    {
      "cell_type": "markdown",
      "metadata": {
        "id": "3tnAfySAm4Wf",
        "colab_type": "text"
      },
      "source": [
        "We compile modelAB"
      ]
    },
    {
      "cell_type": "code",
      "metadata": {
        "id": "9eFKRNmom2rE",
        "colab_type": "code",
        "colab": {}
      },
      "source": [
        "modelAB.compile(loss='binary_crossentropy', \n",
        "               optimizer = keras.optimizers.RMSprop(lr=0.001, rho=0.9),\n",
        "               #optimizer = keras.optimizers.SGD(lr=0.01, decay=1e-6, momentum=0.9, nesterov=True),\n",
        "               metrics=['accuracy'])"
      ],
      "execution_count": null,
      "outputs": []
    },
    {
      "cell_type": "code",
      "metadata": {
        "id": "ZNcZ1yZ_8kEi",
        "colab_type": "code",
        "colab": {}
      },
      "source": [
        "class_weight = {0: 1.,\n",
        "                1: 1.}"
      ],
      "execution_count": null,
      "outputs": []
    },
    {
      "cell_type": "markdown",
      "metadata": {
        "id": "H2Wo9Y3Blx5V",
        "colab_type": "text"
      },
      "source": [
        "Then, we fit the model on the combined dataset AB"
      ]
    },
    {
      "cell_type": "code",
      "metadata": {
        "id": "oIfOHbPmCpnO",
        "colab_type": "code",
        "colab": {
          "base_uri": "https://localhost:8080/",
          "height": 478
        },
        "outputId": "85f1c421-1890-4bc7-ae30-86bcb3eeb926"
      },
      "source": [
        "historyAB = modelAB.fit(epochs_AB_TRAIN_reshaped, target_AB_TRAIN, epochs=10, batch_size=32, class_weight = class_weight,\n",
        "                    validation_data =(epochs_AB_TEST_reshaped,target_AB_TEST))"
      ],
      "execution_count": null,
      "outputs": [
        {
          "output_type": "stream",
          "text": [
            "Train on 30600 samples, validate on 36000 samples\n",
            "Epoch 1/10\n",
            "30600/30600 [==============================] - 15s 479us/sample - loss: 12.7800 - acc: 0.1667 - val_loss: 12.7100 - val_acc: 0.1667\n",
            "Epoch 2/10\n",
            "30600/30600 [==============================] - 12s 386us/sample - loss: 12.7800 - acc: 0.1667 - val_loss: 12.7100 - val_acc: 0.1667\n",
            "Epoch 3/10\n",
            "23840/30600 [======================>.......] - ETA: 1s - loss: 12.7660 - acc: 0.1676"
          ],
          "name": "stdout"
        },
        {
          "output_type": "error",
          "ename": "KeyboardInterrupt",
          "evalue": "ignored",
          "traceback": [
            "\u001b[0;31m---------------------------------------------------------------------------\u001b[0m",
            "\u001b[0;31mKeyboardInterrupt\u001b[0m                         Traceback (most recent call last)",
            "\u001b[0;32m<ipython-input-321-f483fc4116c4>\u001b[0m in \u001b[0;36m<module>\u001b[0;34m()\u001b[0m\n\u001b[1;32m      1\u001b[0m historyAB = modelAB.fit(epochs_AB_TRAIN_reshaped, target_AB_TRAIN, epochs=10, batch_size=32, class_weight = class_weight,\n\u001b[0;32m----> 2\u001b[0;31m                     validation_data =(epochs_AB_TEST_reshaped,target_AB_TEST))\n\u001b[0m",
            "\u001b[0;32m/usr/local/lib/python3.6/dist-packages/tensorflow_core/python/keras/engine/training.py\u001b[0m in \u001b[0;36mfit\u001b[0;34m(self, x, y, batch_size, epochs, verbose, callbacks, validation_split, validation_data, shuffle, class_weight, sample_weight, initial_epoch, steps_per_epoch, validation_steps, validation_freq, max_queue_size, workers, use_multiprocessing, **kwargs)\u001b[0m\n\u001b[1;32m    725\u001b[0m         \u001b[0mmax_queue_size\u001b[0m\u001b[0;34m=\u001b[0m\u001b[0mmax_queue_size\u001b[0m\u001b[0;34m,\u001b[0m\u001b[0;34m\u001b[0m\u001b[0;34m\u001b[0m\u001b[0m\n\u001b[1;32m    726\u001b[0m         \u001b[0mworkers\u001b[0m\u001b[0;34m=\u001b[0m\u001b[0mworkers\u001b[0m\u001b[0;34m,\u001b[0m\u001b[0;34m\u001b[0m\u001b[0;34m\u001b[0m\u001b[0m\n\u001b[0;32m--> 727\u001b[0;31m         use_multiprocessing=use_multiprocessing)\n\u001b[0m\u001b[1;32m    728\u001b[0m \u001b[0;34m\u001b[0m\u001b[0m\n\u001b[1;32m    729\u001b[0m   def evaluate(self,\n",
            "\u001b[0;32m/usr/local/lib/python3.6/dist-packages/tensorflow_core/python/keras/engine/training_arrays.py\u001b[0m in \u001b[0;36mfit\u001b[0;34m(self, model, x, y, batch_size, epochs, verbose, callbacks, validation_split, validation_data, shuffle, class_weight, sample_weight, initial_epoch, steps_per_epoch, validation_steps, validation_freq, **kwargs)\u001b[0m\n\u001b[1;32m    673\u001b[0m         \u001b[0mvalidation_steps\u001b[0m\u001b[0;34m=\u001b[0m\u001b[0mvalidation_steps\u001b[0m\u001b[0;34m,\u001b[0m\u001b[0;34m\u001b[0m\u001b[0;34m\u001b[0m\u001b[0m\n\u001b[1;32m    674\u001b[0m         \u001b[0mvalidation_freq\u001b[0m\u001b[0;34m=\u001b[0m\u001b[0mvalidation_freq\u001b[0m\u001b[0;34m,\u001b[0m\u001b[0;34m\u001b[0m\u001b[0;34m\u001b[0m\u001b[0m\n\u001b[0;32m--> 675\u001b[0;31m         steps_name='steps_per_epoch')\n\u001b[0m\u001b[1;32m    676\u001b[0m \u001b[0;34m\u001b[0m\u001b[0m\n\u001b[1;32m    677\u001b[0m   def evaluate(self,\n",
            "\u001b[0;32m/usr/local/lib/python3.6/dist-packages/tensorflow_core/python/keras/engine/training_arrays.py\u001b[0m in \u001b[0;36mmodel_iteration\u001b[0;34m(model, inputs, targets, sample_weights, batch_size, epochs, verbose, callbacks, val_inputs, val_targets, val_sample_weights, shuffle, initial_epoch, steps_per_epoch, validation_steps, validation_freq, mode, validation_in_fit, prepared_feed_values_from_dataset, steps_name, **kwargs)\u001b[0m\n\u001b[1;32m    392\u001b[0m \u001b[0;34m\u001b[0m\u001b[0m\n\u001b[1;32m    393\u001b[0m         \u001b[0;31m# Get outputs.\u001b[0m\u001b[0;34m\u001b[0m\u001b[0;34m\u001b[0m\u001b[0;34m\u001b[0m\u001b[0m\n\u001b[0;32m--> 394\u001b[0;31m         \u001b[0mbatch_outs\u001b[0m \u001b[0;34m=\u001b[0m \u001b[0mf\u001b[0m\u001b[0;34m(\u001b[0m\u001b[0mins_batch\u001b[0m\u001b[0;34m)\u001b[0m\u001b[0;34m\u001b[0m\u001b[0;34m\u001b[0m\u001b[0m\n\u001b[0m\u001b[1;32m    395\u001b[0m         \u001b[0;32mif\u001b[0m \u001b[0;32mnot\u001b[0m \u001b[0misinstance\u001b[0m\u001b[0;34m(\u001b[0m\u001b[0mbatch_outs\u001b[0m\u001b[0;34m,\u001b[0m \u001b[0mlist\u001b[0m\u001b[0;34m)\u001b[0m\u001b[0;34m:\u001b[0m\u001b[0;34m\u001b[0m\u001b[0;34m\u001b[0m\u001b[0m\n\u001b[1;32m    396\u001b[0m           \u001b[0mbatch_outs\u001b[0m \u001b[0;34m=\u001b[0m \u001b[0;34m[\u001b[0m\u001b[0mbatch_outs\u001b[0m\u001b[0;34m]\u001b[0m\u001b[0;34m\u001b[0m\u001b[0;34m\u001b[0m\u001b[0m\n",
            "\u001b[0;32m/usr/local/lib/python3.6/dist-packages/tensorflow_core/python/keras/backend.py\u001b[0m in \u001b[0;36m__call__\u001b[0;34m(self, inputs)\u001b[0m\n\u001b[1;32m   3474\u001b[0m \u001b[0;34m\u001b[0m\u001b[0m\n\u001b[1;32m   3475\u001b[0m     fetched = self._callable_fn(*array_vals,\n\u001b[0;32m-> 3476\u001b[0;31m                                 run_metadata=self.run_metadata)\n\u001b[0m\u001b[1;32m   3477\u001b[0m     \u001b[0mself\u001b[0m\u001b[0;34m.\u001b[0m\u001b[0m_call_fetch_callbacks\u001b[0m\u001b[0;34m(\u001b[0m\u001b[0mfetched\u001b[0m\u001b[0;34m[\u001b[0m\u001b[0;34m-\u001b[0m\u001b[0mlen\u001b[0m\u001b[0;34m(\u001b[0m\u001b[0mself\u001b[0m\u001b[0;34m.\u001b[0m\u001b[0m_fetches\u001b[0m\u001b[0;34m)\u001b[0m\u001b[0;34m:\u001b[0m\u001b[0;34m]\u001b[0m\u001b[0;34m)\u001b[0m\u001b[0;34m\u001b[0m\u001b[0;34m\u001b[0m\u001b[0m\n\u001b[1;32m   3478\u001b[0m     output_structure = nest.pack_sequence_as(\n",
            "\u001b[0;32m/usr/local/lib/python3.6/dist-packages/tensorflow_core/python/client/session.py\u001b[0m in \u001b[0;36m__call__\u001b[0;34m(self, *args, **kwargs)\u001b[0m\n\u001b[1;32m   1470\u001b[0m         ret = tf_session.TF_SessionRunCallable(self._session._session,\n\u001b[1;32m   1471\u001b[0m                                                \u001b[0mself\u001b[0m\u001b[0;34m.\u001b[0m\u001b[0m_handle\u001b[0m\u001b[0;34m,\u001b[0m \u001b[0margs\u001b[0m\u001b[0;34m,\u001b[0m\u001b[0;34m\u001b[0m\u001b[0;34m\u001b[0m\u001b[0m\n\u001b[0;32m-> 1472\u001b[0;31m                                                run_metadata_ptr)\n\u001b[0m\u001b[1;32m   1473\u001b[0m         \u001b[0;32mif\u001b[0m \u001b[0mrun_metadata\u001b[0m\u001b[0;34m:\u001b[0m\u001b[0;34m\u001b[0m\u001b[0;34m\u001b[0m\u001b[0m\n\u001b[1;32m   1474\u001b[0m           \u001b[0mproto_data\u001b[0m \u001b[0;34m=\u001b[0m \u001b[0mtf_session\u001b[0m\u001b[0;34m.\u001b[0m\u001b[0mTF_GetBuffer\u001b[0m\u001b[0;34m(\u001b[0m\u001b[0mrun_metadata_ptr\u001b[0m\u001b[0;34m)\u001b[0m\u001b[0;34m\u001b[0m\u001b[0;34m\u001b[0m\u001b[0m\n",
            "\u001b[0;31mKeyboardInterrupt\u001b[0m: "
          ]
        }
      ]
    },
    {
      "cell_type": "markdown",
      "metadata": {
        "id": "WDgv0l5in0_W",
        "colab_type": "text"
      },
      "source": [
        "Analyze the performance of the network when trained on data of both subjects"
      ]
    },
    {
      "cell_type": "code",
      "metadata": {
        "id": "6m0d86HHDZw2",
        "colab_type": "code",
        "colab": {
          "base_uri": "https://localhost:8080/",
          "height": 204
        },
        "outputId": "e64b0a6f-4836-48ba-8ec6-427b19b22b60"
      },
      "source": [
        "# extract epochs from stimulusCode_AB exploiting information about the signal\n",
        "epochsAB , word = preSpeller(stimulusCode_AB, word_AB)\n",
        "\n",
        "# obtain prediction for modelA trained by data of both subject\n",
        "predictions_AB = modelAB.predict(epochs_AB_TEST_reshaped)\n",
        "\n",
        "# evaluate classification performance\n",
        "binary_predictions_AB = binary_pred(predictions_AB, 0.5)\n",
        "stat(target_AB_TEST, binary_predictions_AB,'AB')"
      ],
      "execution_count": null,
      "outputs": [
        {
          "output_type": "stream",
          "text": [
            "sensitivity on test AB :\n",
            " 0.5415\n",
            "specificity on test: AB :\n",
            " 0.6926\n",
            "accuracy on test: AB :\n",
            " 0.6674166666666667\n",
            "PPV on test AB :\n",
            " 0.2605244166466202\n",
            "NPV on test AB :\n",
            " 0.8830804539079434\n"
          ],
          "name": "stdout"
        }
      ]
    },
    {
      "cell_type": "markdown",
      "metadata": {
        "id": "n2SCa-YIoZVQ",
        "colab_type": "text"
      },
      "source": [
        "In conclusion, we obtain the results also in term of accuracy in letter prediction, again by using the network trained on A and on B"
      ]
    },
    {
      "cell_type": "code",
      "metadata": {
        "id": "xgqRh8reE4Bw",
        "colab_type": "code",
        "colab": {}
      },
      "source": [
        "# apply the speller fun on predictionsAB\n",
        "target_word_AB,accuracy_AB,accuracy_let_AB = speller(predictions_AB, epochsAB, word_AB)"
      ],
      "execution_count": null,
      "outputs": []
    },
    {
      "cell_type": "code",
      "metadata": {
        "id": "37lQypDtm1ge",
        "colab_type": "code",
        "colab": {}
      },
      "source": [
        "t = range(1,16)\n",
        "fig = plt.figure(figsize=(12,10))\n",
        "plt.grid(True)\n",
        "plt.gca().set_ylim(0, 1) # set the vertical range to [0-1]\n",
        "plt.plot(t, accuracy_let_A, t, accuracy_let_B, t, accuracy_let_AB)\n",
        "plt.xlabel('Repetitions', size='xx-large')\n",
        "plt.xticks(t)\n",
        "plt.ylabel('Accuracy', size='xx-large')\n",
        "fig.suptitle('Repetitions test', size='xx-large')\n",
        "fig.legend(['Model A applied to Subject A','Model B applied to Subject B','Model AB applied to Subjects A and B'])\n",
        "plt.show()"
      ],
      "execution_count": null,
      "outputs": []
    }
  ]
}